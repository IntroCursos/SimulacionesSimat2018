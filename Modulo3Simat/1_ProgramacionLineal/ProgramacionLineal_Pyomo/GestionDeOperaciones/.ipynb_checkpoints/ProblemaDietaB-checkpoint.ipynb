{
 "cells": [
  {
   "cell_type": "markdown",
   "metadata": {},
   "source": [
    "# Ejemplo Problema de dieta\n",
    "\n",
    "Tomado de \n",
    "\n",
    "https://www.gestiondeoperaciones.net/programacion_lineal/problema-de-la-dieta-en-programacion-lineal-resuelto-con-solver-de-excel/"
   ]
  },
  {
   "cell_type": "code",
   "execution_count": 1,
   "metadata": {},
   "outputs": [],
   "source": [
    "import pandas as pd\n",
    "from pyomo.environ import *\n"
   ]
  },
  {
   "cell_type": "code",
   "execution_count": 14,
   "metadata": {},
   "outputs": [],
   "source": [
    "InfoAlimentos = ['TamPorcion', 'Energia', 'Proteinas', 'Calcio',\n",
    "       'PrecioPorcion', 'LimPorcionesDia']\n",
    "df = pd.read_excel(\"Alimentos.xlsx\",index_col=\"Alimento\",names=InfoAlimentos)"
   ]
  },
  {
   "cell_type": "code",
   "execution_count": 15,
   "metadata": {},
   "outputs": [
    {
     "data": {
      "text/plain": [
       "Index(['TamPorcion', 'Energia', 'Proteinas', 'Calcio', 'PrecioPorcion',\n",
       "       'LimPorcionesDia'],\n",
       "      dtype='object')"
      ]
     },
     "execution_count": 15,
     "metadata": {},
     "output_type": "execute_result"
    }
   ],
   "source": [
    "df.columns"
   ]
  },
  {
   "cell_type": "code",
   "execution_count": 16,
   "metadata": {},
   "outputs": [
    {
     "data": {
      "text/html": [
       "<div>\n",
       "<style>\n",
       "    .dataframe thead tr:only-child th {\n",
       "        text-align: right;\n",
       "    }\n",
       "\n",
       "    .dataframe thead th {\n",
       "        text-align: left;\n",
       "    }\n",
       "\n",
       "    .dataframe tbody tr th {\n",
       "        vertical-align: top;\n",
       "    }\n",
       "</style>\n",
       "<table border=\"1\" class=\"dataframe\">\n",
       "  <thead>\n",
       "    <tr style=\"text-align: right;\">\n",
       "      <th></th>\n",
       "      <th>TamPorcion</th>\n",
       "      <th>Energia</th>\n",
       "      <th>Proteinas</th>\n",
       "      <th>Calcio</th>\n",
       "      <th>PrecioPorcion</th>\n",
       "      <th>LimPorcionesDia</th>\n",
       "    </tr>\n",
       "    <tr>\n",
       "      <th>Alimento</th>\n",
       "      <th></th>\n",
       "      <th></th>\n",
       "      <th></th>\n",
       "      <th></th>\n",
       "      <th></th>\n",
       "      <th></th>\n",
       "    </tr>\n",
       "  </thead>\n",
       "  <tbody>\n",
       "    <tr>\n",
       "      <th>Avena</th>\n",
       "      <td>28 g</td>\n",
       "      <td>110</td>\n",
       "      <td>4</td>\n",
       "      <td>2</td>\n",
       "      <td>30</td>\n",
       "      <td>4</td>\n",
       "    </tr>\n",
       "    <tr>\n",
       "      <th>Pollo</th>\n",
       "      <td>100 g</td>\n",
       "      <td>205</td>\n",
       "      <td>32</td>\n",
       "      <td>12</td>\n",
       "      <td>240</td>\n",
       "      <td>3</td>\n",
       "    </tr>\n",
       "    <tr>\n",
       "      <th>Huevos</th>\n",
       "      <td>2 grandes</td>\n",
       "      <td>160</td>\n",
       "      <td>13</td>\n",
       "      <td>54</td>\n",
       "      <td>130</td>\n",
       "      <td>2</td>\n",
       "    </tr>\n",
       "    <tr>\n",
       "      <th>LecheEntera</th>\n",
       "      <td>237cc</td>\n",
       "      <td>160</td>\n",
       "      <td>8</td>\n",
       "      <td>285</td>\n",
       "      <td>90</td>\n",
       "      <td>8</td>\n",
       "    </tr>\n",
       "    <tr>\n",
       "      <th>Pasta</th>\n",
       "      <td>170 g</td>\n",
       "      <td>420</td>\n",
       "      <td>4</td>\n",
       "      <td>22</td>\n",
       "      <td>200</td>\n",
       "      <td>2</td>\n",
       "    </tr>\n",
       "    <tr>\n",
       "      <th>Papas</th>\n",
       "      <td>260g</td>\n",
       "      <td>260</td>\n",
       "      <td>14</td>\n",
       "      <td>80</td>\n",
       "      <td>60</td>\n",
       "      <td>2</td>\n",
       "    </tr>\n",
       "  </tbody>\n",
       "</table>\n",
       "</div>"
      ],
      "text/plain": [
       "            TamPorcion  Energia  Proteinas  Calcio  PrecioPorcion  \\\n",
       "Alimento                                                            \n",
       "Avena             28 g      110          4       2             30   \n",
       "Pollo            100 g      205         32      12            240   \n",
       "Huevos       2 grandes      160         13      54            130   \n",
       "LecheEntera      237cc      160          8     285             90   \n",
       "Pasta            170 g      420          4      22            200   \n",
       "Papas             260g      260         14      80             60   \n",
       "\n",
       "             LimPorcionesDia  \n",
       "Alimento                      \n",
       "Avena                      4  \n",
       "Pollo                      3  \n",
       "Huevos                     2  \n",
       "LecheEntera                8  \n",
       "Pasta                      2  \n",
       "Papas                      2  "
      ]
     },
     "execution_count": 16,
     "metadata": {},
     "output_type": "execute_result"
    }
   ],
   "source": [
    "df"
   ]
  },
  {
   "cell_type": "markdown",
   "metadata": {},
   "source": [
    "- Se desea proponer una dieta que contenga al menos 2.000 (Kcal) , \n",
    "\n",
    "- al menos 55 gramos de proteína \n",
    "\n",
    "- Y 800 (mg) de calcio. \n",
    "\n",
    "- Adicionalmente para garantizar cierta variedad en la dieta se establece límites de porciones por día en los alimentos.\n",
    "\n",
    "- Con esta información se requiere encontrar la dieta que tenga el menor costo asociado y permita satisfacer los requerimientos anteriores."
   ]
  },
  {
   "cell_type": "code",
   "execution_count": 22,
   "metadata": {},
   "outputs": [
    {
     "data": {
      "text/plain": [
       "240"
      ]
     },
     "execution_count": 22,
     "metadata": {},
     "output_type": "execute_result"
    }
   ],
   "source": [
    "df.PrecioPorcion[1]"
   ]
  },
  {
   "cell_type": "code",
   "execution_count": 26,
   "metadata": {},
   "outputs": [
    {
     "data": {
      "text/plain": [
       "6"
      ]
     },
     "execution_count": 26,
     "metadata": {},
     "output_type": "execute_result"
    }
   ],
   "source": [
    "len(df.LimPorcionesDia)"
   ]
  },
  {
   "cell_type": "code",
   "execution_count": 20,
   "metadata": {},
   "outputs": [],
   "source": [
    "alimentos = df.index.tolist()"
   ]
  },
  {
   "cell_type": "code",
   "execution_count": 38,
   "metadata": {},
   "outputs": [],
   "source": [
    "model = ConcreteModel(name=\"Alimentos Diarios\")\n",
    "\n",
    "model.alimentos_vars = Var(alimentos, bounds=(0,None), doc=\"Cantidad de cada alimento\")\n",
    "\n",
    "model.obj = Objective(expr=sum(df.PrecioPorcion[i]*model.alimentos_vars[i] for i in alimentos),sense=minimize, doc=\"El costo de la dieta\")\n",
    "\n"
   ]
  },
  {
   "cell_type": "code",
   "execution_count": 39,
   "metadata": {},
   "outputs": [],
   "source": [
    "\n",
    "model.c0 = Constraint(expr=sum(df.Energia[i]*model.alimentos_vars[i] for i in alimentos) >= 2000, doc=\"MinEnergia\")\n",
    "model.c1 = Constraint(expr=sum(df.Proteinas[i]*model.alimentos_vars[i] for i in alimentos) >= 55, doc=\"MinProteina\")\n",
    "model.c2 = Constraint(expr=sum(df.Calcio[i]*model.alimentos_vars[i] for i in alimentos) >= 800, doc=\"MinProteina\")\n",
    "\n",
    "## En lugar de poner todas estas restricciones hacemos un generador\n",
    "#model.c3 = Constraint(expr= model.alimentos_vars[0]  <= df.LimPorcionesDia[0], doc=\"LimPorcionAvena\")\n",
    "#model.c4 = Constraint(expr= model.alimentos_vars[1]  <= df.LimPorcionesDia[0], doc=\"LimPorcionAvena\")\n",
    "#model.c5 = Constraint(expr= model.alimentos_vars[2]  <= df.LimPorcionesDia[0], doc=\"LimPorcionAvena\")\n",
    "#model.c6 = Constraint(expr= model.alimentos_vars[3]  <= df.LimPorcionesDia[0], doc=\"LimPorcionAvena\")\n",
    "#model.c7 = Constraint(expr= model.alimentos_vars[4]  <= df.LimPorcionesDia[0], doc=\"LimPorcionAvena\")\n"
   ]
  },
  {
   "cell_type": "code",
   "execution_count": 51,
   "metadata": {},
   "outputs": [],
   "source": [
    "#model.alimentos_vars.get_values()"
   ]
  },
  {
   "cell_type": "code",
   "execution_count": 36,
   "metadata": {},
   "outputs": [
    {
     "data": {
      "text/plain": [
       "(4, ['Avena', 'Pollo', 'Huevos', 'LecheEntera', 'Pasta', 'Papas'])"
      ]
     },
     "execution_count": 36,
     "metadata": {},
     "output_type": "execute_result"
    }
   ],
   "source": [
    "#df.LimPorcionesDia[0],alimentos"
   ]
  },
  {
   "cell_type": "code",
   "execution_count": 40,
   "metadata": {},
   "outputs": [],
   "source": [
    "def con_rule(model, ind):\n",
    "    return model.alimentos_vars[ind]  <= df.LimPorcionesDia[ind]\n",
    "\n",
    "#indx = list(range(len(df.LimPorcionesDia)))\n",
    "model.con = Constraint(alimentos, rule=con_rule)"
   ]
  },
  {
   "cell_type": "code",
   "execution_count": null,
   "metadata": {},
   "outputs": [],
   "source": []
  },
  {
   "cell_type": "code",
   "execution_count": 50,
   "metadata": {},
   "outputs": [
    {
     "name": "stdout",
     "output_type": "stream",
     "text": [
      "Status = optimal\n",
      "alimentos_vars[Avena] = 4.000000\n",
      "alimentos_vars[Pollo] = 0.000000\n",
      "alimentos_vars[Huevos] = 0.000000\n",
      "alimentos_vars[LecheEntera] = 2.087795\n",
      "alimentos_vars[Pasta] = 1.680840\n",
      "alimentos_vars[Papas] = 2.000000\n",
      "Objective = 764.069537\n"
     ]
    }
   ],
   "source": [
    "solver = SolverFactory('ipopt')\n",
    "status = solver.solve(model)\n",
    "\n",
    "print(\"Status = %s\" % status.solver.termination_condition)\n",
    "\n",
    "for i in alimentos:\n",
    "    print(\"%s = %f\" % (model.alimentos_vars[i], value(model.alimentos_vars[i])))\n",
    "\n",
    "print(\"Objective = %f\" % value(model.obj))"
   ]
  },
  {
   "cell_type": "code",
   "execution_count": null,
   "metadata": {},
   "outputs": [],
   "source": []
  }
 ],
 "metadata": {
  "hide_input": false,
  "kernelspec": {
   "display_name": "Python 3",
   "language": "python",
   "name": "python3"
  },
  "language_info": {
   "codemirror_mode": {
    "name": "ipython",
    "version": 3
   },
   "file_extension": ".py",
   "mimetype": "text/x-python",
   "name": "python",
   "nbconvert_exporter": "python",
   "pygments_lexer": "ipython3",
   "version": "3.5.2"
  },
  "toc": {
   "nav_menu": {},
   "number_sections": true,
   "sideBar": true,
   "skip_h1_title": false,
   "toc_cell": false,
   "toc_position": {},
   "toc_section_display": "block",
   "toc_window_display": false
  },
  "varInspector": {
   "cols": {
    "lenName": 16,
    "lenType": 16,
    "lenVar": 40
   },
   "kernels_config": {
    "python": {
     "delete_cmd_postfix": "",
     "delete_cmd_prefix": "del ",
     "library": "var_list.py",
     "varRefreshCmd": "print(var_dic_list())"
    },
    "r": {
     "delete_cmd_postfix": ") ",
     "delete_cmd_prefix": "rm(",
     "library": "var_list.r",
     "varRefreshCmd": "cat(var_dic_list()) "
    }
   },
   "types_to_exclude": [
    "module",
    "function",
    "builtin_function_or_method",
    "instance",
    "_Feature"
   ],
   "window_display": false
  }
 },
 "nbformat": 4,
 "nbformat_minor": 2
}
