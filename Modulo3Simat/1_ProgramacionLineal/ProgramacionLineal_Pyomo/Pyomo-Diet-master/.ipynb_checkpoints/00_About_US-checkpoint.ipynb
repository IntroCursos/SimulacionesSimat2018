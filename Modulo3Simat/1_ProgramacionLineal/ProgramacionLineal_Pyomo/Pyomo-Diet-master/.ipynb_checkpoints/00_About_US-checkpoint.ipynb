{
 "cells": [
  {
   "cell_type": "markdown",
   "metadata": {
    "slideshow": {
     "slide_type": "slide"
    }
   },
   "source": [
    "# HOW TO IMPROVE YOUR DIET AND SAVE MONEY WITH PYTHON\n",
    "\n",
    "\n",
    "Authors: Zuria Bauer & Daniel Domene"
   ]
  },
  {
   "cell_type": "markdown",
   "metadata": {
    "slideshow": {
     "slide_type": "slide"
    }
   },
   "source": [
    "<img src=\"img/europython16.png\" alt=\"EP\" style=\"width: 400px;\"/>\n",
    "<img src=\"img/logoHD.png\" alt=\"PYL\" style=\"width: 300px;\"/>\n",
    "<img src=\"img/pyladies-ES.png\" alt=\"PYL\" style=\"width: 100px;\"/>\n",
    "\n"
   ]
  },
  {
   "cell_type": "markdown",
   "metadata": {
    "collapsed": true,
    "slideshow": {
     "slide_type": "slide"
    }
   },
   "source": [
    "## About us"
   ]
  },
  {
   "cell_type": "markdown",
   "metadata": {
    "slideshow": {
     "slide_type": "slide"
    }
   },
   "source": [
    "#### Daniel Domene López\n",
    "\n",
    "<img src=\"img/about-us/Dani.jpg\" alt=\"Dani\" style=\"width: 300px;\" position=\"centered\"/>\n",
    "\n"
   ]
  },
  {
   "cell_type": "markdown",
   "metadata": {
    "slideshow": {
     "slide_type": "subslide"
    }
   },
   "source": [
    "- M.Sc.Chemical Engineering at the University of Alicante\n",
    "- Programming with Python since 2014.\n",
    "- Speaker at the PyConES 2014 in Zaragoza and PyConES 2015 in Valencia.\n",
    "- In love with interactive widgets (Jupyter Notebook).\n",
    "- Active member of [CAChemE.org](http://cacheme.org/)\n",
    "- Experience in modeling and simulation of Chemical Reactors with MATLAB/GNU Octave.\n",
    "- Human languajes: Spanish, English and a litlle bit of French.\n",
    "- Twitter: [@DanielDomeneL](https://twitter.com/DanielDomeneL)"
   ]
  },
  {
   "cell_type": "markdown",
   "metadata": {
    "slideshow": {
     "slide_type": "slide"
    }
   },
   "source": [
    "### Zuria Bauer Hartwig\n",
    "<img src=\"img/about-us/Zuri.jpg\" alt=\"Zuri\" style=\"width: 300px;\" position=\"centered\"/>"
   ]
  },
  {
   "cell_type": "markdown",
   "metadata": {
    "slideshow": {
     "slide_type": "subslide"
    }
   },
   "source": [
    "- Bachelor in Chemical Engineering at the University of Alicante\n",
    "- Programming with Python since 2014\n",
    "- Speaker at the PyConES 2014 in Zaragoza\n",
    "- *Hates* interactive widgets\n",
    "- Active member of [CAChemE.org](http://cacheme.org/)\n",
    "- Experience in modeling and simulation of Chemical Reactors with MATLAB/GNU Octave\n",
    "- Honor certificate form the MIT course \"Introduction to Computer Science and Programming Using Python\"\n",
    "- Human languages: Spanish, German and English\n",
    "- Twitter: [@zuriich92](https://twitter.com/zuriich92)"
   ]
  },
  {
   "cell_type": "markdown",
   "metadata": {
    "slideshow": {
     "slide_type": "slide"
    }
   },
   "source": [
    "## About this talk"
   ]
  },
  {
   "cell_type": "markdown",
   "metadata": {
    "slideshow": {
     "slide_type": "fragment"
    }
   },
   "source": [
    "<img src=\"img/intro-simple.png\" alt=\"dieta\" style=\"width: 800px;\" position=\"centered\"/>"
   ]
  },
  {
   "cell_type": "markdown",
   "metadata": {
    "slideshow": {
     "slide_type": "slide"
    }
   },
   "source": [
    "## CAChemE"
   ]
  },
  {
   "cell_type": "markdown",
   "metadata": {
    "slideshow": {
     "slide_type": "fragment"
    }
   },
   "source": [
    "[CAChemE](http://cacheme.org/) is an nonprofit association formed by Chemical Engineers (professionals, students, and professors) which tries to encourage the open source software possibilities in Chemical Process Engineering (simulation and optimization).\n",
    "\n",
    "We are located in the Institute of Chemical Engineering Processes at the University of Alicante (Spain)"
   ]
  },
  {
   "cell_type": "markdown",
   "metadata": {
    "slideshow": {
     "slide_type": "slide"
    }
   },
   "source": [
    "<img src=\"img/logoHD.png\" alt=\"cacheme\" style=\"width: 600px;\" position=\"centered\"/>\n",
    "<img src=\"img/about-us/cacheme.png\" alt=\"cacheme\" style=\"width: 600px;\" position=\"centered\"/>\n",
    "\n",
    "Thank you all pythonistas!"
   ]
  }
 ],
 "metadata": {
  "anaconda-cloud": {},
  "celltoolbar": "Slideshow",
  "hide_input": false,
  "kernelspec": {
   "display_name": "Python 3",
   "language": "python",
   "name": "python3"
  },
  "language_info": {
   "codemirror_mode": {
    "name": "ipython",
    "version": 3
   },
   "file_extension": ".py",
   "mimetype": "text/x-python",
   "name": "python",
   "nbconvert_exporter": "python",
   "pygments_lexer": "ipython3",
   "version": "3.5.2"
  },
  "toc": {
   "nav_menu": {},
   "number_sections": true,
   "sideBar": true,
   "skip_h1_title": false,
   "toc_cell": false,
   "toc_position": {},
   "toc_section_display": "block",
   "toc_window_display": false
  },
  "varInspector": {
   "cols": {
    "lenName": 16,
    "lenType": 16,
    "lenVar": 40
   },
   "kernels_config": {
    "python": {
     "delete_cmd_postfix": "",
     "delete_cmd_prefix": "del ",
     "library": "var_list.py",
     "varRefreshCmd": "print(var_dic_list())"
    },
    "r": {
     "delete_cmd_postfix": ") ",
     "delete_cmd_prefix": "rm(",
     "library": "var_list.r",
     "varRefreshCmd": "cat(var_dic_list()) "
    }
   },
   "types_to_exclude": [
    "module",
    "function",
    "builtin_function_or_method",
    "instance",
    "_Feature"
   ],
   "window_display": false
  }
 },
 "nbformat": 4,
 "nbformat_minor": 1
}
