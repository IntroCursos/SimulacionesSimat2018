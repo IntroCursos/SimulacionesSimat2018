{
 "cells": [
  {
   "cell_type": "markdown",
   "metadata": {
    "nbpresent": {
     "id": "2e4fb60c-5225-4a97-b107-0d109e7402e1"
    },
    "slideshow": {
     "slide_type": "slide"
    }
   },
   "source": [
    "# DIET PROBLEM - PYOMO\n",
    "\n",
    "*Zuria Bauer Hartwig* ([CAChemE](http://cacheme.org))"
   ]
  },
  {
   "cell_type": "markdown",
   "metadata": {
    "nbpresent": {
     "id": "239b7429-60c6-4846-9d95-76d9d394382f"
    },
    "slideshow": {
     "slide_type": "subslide"
    }
   },
   "source": [
    "Sources:\n",
    "\n",
    "* Original Problem: [Linear and Integer Programming](https://www.coursera.org/course/linearprogramming) (Coursera Course) - University of Colorado Boulder & University of Colorado System\n",
    "\n",
    "* Based on the Examples from CAChemE's Optimization Workshop = [Taller-Optimizacion-Python-Pyomo](https://github.com/CAChemE/Taller-Optimizacion-Python-Pyomo) from [CAChemE.org](http://cacheme.org/optimizacion-programacion-matematica-con-python-pyomo/)\n",
    "\n",
    "* [Neos Guide - The Diet Problem](http://www.neos-guide.org/content/diet-problem)"
   ]
  },
  {
   "cell_type": "markdown",
   "metadata": {
    "nbpresent": {
     "id": "cb0e4758-2b39-4f3c-8adf-3f708b5cef5d"
    },
    "slideshow": {
     "slide_type": "slide"
    }
   },
   "source": [
    "## Big picture"
   ]
  },
  {
   "cell_type": "markdown",
   "metadata": {
    "nbpresent": {
     "id": "3dbb5e1a-b781-4a0a-b6f6-c828e0c46b79"
    },
    "slideshow": {
     "slide_type": "subslide"
    }
   },
   "source": [
    "<img src=\"img/intro.png\" alt=\"Dieta\" style=\"width: 900px;\"/>"
   ]
  },
  {
   "cell_type": "markdown",
   "metadata": {
    "nbpresent": {
     "id": "1b0316b0-76ac-4851-92b8-e465af0b267e"
    },
    "slideshow": {
     "slide_type": "skip"
    }
   },
   "source": [
    "The goal of the diet problem is to select a set of foods we can get at a famous fast food restaurant,\n",
    "that will satisfy a set of daily nutritional requirement at minimum cost. \n",
    "The problem is formulated as a linear program where the objective is to minimize cost \n",
    "and the constraints are to satisfy the specified nutritional requirements. \n",
    "The diet problem constraints typically regulate the number of calories,\n",
    "the calories from Fat, Total Fat, Cholesterol, Sodium, \n",
    "Carbohydrates, Fiber, Sugar, Proteine, Vitamine A and C,\n",
    "Calcium and Sodium in the diet. \n",
    "While the mathematical formulation is simple, \n",
    "the solution may not be palatable! \n",
    "The nutritional requirements can be met without regard for taste or variety, \n",
    "so consider the output before digging into a meal from an \"optimal\" menu!"
   ]
  },
  {
   "cell_type": "markdown",
   "metadata": {
    "nbpresent": {
     "id": "a3c42cb9-6b86-430f-a3b6-20ebf0dde409"
    },
    "slideshow": {
     "slide_type": "skip"
    }
   },
   "source": [
    "You can have a look in here:\n",
    "https://www.mcdonalds.com/us/en-us/about-our-food/nutrition-calculator.html"
   ]
  },
  {
   "cell_type": "markdown",
   "metadata": {
    "nbpresent": {
     "id": "cc5f5200-d932-4557-967e-55ed57826aa3"
    },
    "slideshow": {
     "slide_type": "slide"
    }
   },
   "source": [
    "**GDAs (Guideline Daily Amounts)** indicate the daily input of calories and nutrients (protein, fat, saturated fat , carbohydrates , sugars , salt and fiber) necessary for the daily diet of an adult or a child.\n"
   ]
  },
  {
   "cell_type": "markdown",
   "metadata": {
    "slideshow": {
     "slide_type": "skip"
    }
   },
   "source": [
    "On the next figure you can see the recommended quantities for and adult, shown in solid color. It's also shown the quantities in one of the meals with which we are going to solve the diet problem."
   ]
  },
  {
   "cell_type": "markdown",
   "metadata": {
    "nbpresent": {
     "id": "3159405c-9758-406e-9367-caa6a4de0294"
    },
    "slideshow": {
     "slide_type": "slide"
    }
   },
   "source": [
    "<a href=\"http://www.foodlabel.org.uk/label/gda_values.aspx \" target=\"_blank\"><img src=\"img/GDA-table.png\" alt=\"GDA-values\" style=\"width: 800px;\"/></a>"
   ]
  },
  {
   "cell_type": "markdown",
   "metadata": {
    "slideshow": {
     "slide_type": "slide"
    }
   },
   "source": [
    "## Pyomo AML MODEL"
   ]
  },
  {
   "cell_type": "markdown",
   "metadata": {
    "nbpresent": {
     "id": "a77eb097-8660-47e4-9c6a-9e29fec754e0"
    },
    "slideshow": {
     "slide_type": "slide"
    }
   },
   "source": [
    "#### 1. Import\n"
   ]
  },
  {
   "cell_type": "code",
   "execution_count": 25,
   "metadata": {
    "slideshow": {
     "slide_type": "fragment"
    }
   },
   "outputs": [],
   "source": [
    "from pyomo.environ import *\n",
    "infinity = float('inf')\n",
    "\n",
    "# We are importing Pyomo library to our Python enviroment\n",
    "\n",
    "# Side-note:\n",
    "# Usually importing all (*) the library is a VERY BAD idea\n",
    "# By convention Pyomo documentation does that so here we are"
   ]
  },
  {
   "cell_type": "markdown",
   "metadata": {
    "slideshow": {
     "slide_type": "slide"
    }
   },
   "source": [
    "#### 2. Data"
   ]
  },
  {
   "cell_type": "markdown",
   "metadata": {
    "nbpresent": {
     "id": "4bf5e73f-1f23-4074-baf3-fde6de78ac66"
    },
    "slideshow": {
     "slide_type": "subslide"
    }
   },
   "source": [
    "We can use the following data:\n",
    "\n",
    "- http://nutrition.mcdonalds.com/getnutrition/nutritionfacts.pdf (dead link)\n",
    "- http://fastfoodnutrition.org/mcdonalds/chart\n",
    "- http://www.fastfoodmenuprices.com/mcdonalds-prices/"
   ]
  },
  {
   "cell_type": "code",
   "execution_count": 26,
   "metadata": {
    "nbpresent": {
     "id": "1b95b2da-5b6e-417c-ada0-d96524d98194"
    },
    "scrolled": false,
    "slideshow": {
     "slide_type": "slide"
    }
   },
   "outputs": [
    {
     "name": "stdout",
     "output_type": "stream",
     "text": [
      "# http://nutrition.mcdonalds.com/getnutrition/nutritionfacts.pdf\r\n",
      "# http://www.fastfoodmenuprices.com/mcdonalds-prices/\r\n",
      "\r\n",
      "#Food + Cost\r\n",
      "\r\n",
      "param:  F:                                                  c  :=\r\n",
      "  \"Bacon Clubhouse Burgerx\"                                 4.49\r\n",
      "  \"Bacon Clubhouse Grilled Chicken Sandwichx\"               4.00\r\n",
      "  \"Bacon Clubhouse Crispy Chicken Sandwichx\"                4.00\r\n",
      "  \"McChickenx\"                                              4.00\r\n",
      "  \"Filet-O-Fishx\"                                           4.79\r\n",
      "  \"McRibx\"                                                  3.79\r\n",
      "  \"Premium McxWrap Chicken & Bacon (Crispy)\"                2.99\r\n",
      "  \"Premium McxWrap Chicken & Bacon (Grilled)\"               3.99\r\n",
      "  \"Premium McxWrap Chicken & Ranch (Crispy)\"                3.99               \r\n",
      "  \"Premium McxWrap Chicken & Ranch (Grilled)\"               3.99\r\n",
      "  \"Premium McxWrap Chicken & Sweet Chili (Crispy)\"          3.99\r\n",
      "  \"Premium McxWrap Chicken & Sweet Chili (Grilled)\"         3.99\r\n",
      "  \"Big Macx\"                                                3.69   \r\n",
      "  \"Quarter Pounder with Cheesex\"                            3.69\r\n",
      "  \"Double Quarter Pounder with Cheesex\"                     1.29  \r\n",
      "  \"Hamburguerx\"                                             1.29\r\n",
      "  \"Cheeseburgerx\"                                           1.00\r\n",
      "  \"BBQ Ranch Burgerx\"                                       1.29\r\n",
      "  \"Grilled Onion Cheddarx\"                                  1.00\r\n",
      "  \"Double Cheeseburgerx\"                                    2.00 \r\n",
      "  \"McDoublex\"                                               2.00\r\n",
      "  \"Bacon McDoublex\"                                         1.99\r\n",
      "  \"Ranch Snack Wrap (Crispy)x\"                              1.59\r\n",
      "  \"Ranch Snack Wrap (Grilled)x\"                             1.59\r\n",
      "  \"Mac Snack Wrapx\"                                         2.00\r\n",
      "  \"Jalapenio Doublex\"                                       3.89\r\n",
      "  \"Premium Crispy Chicken Deluxe Sandwichx\"                 3.99\r\n",
      "  \"Quarter Pounder Deluxex\"                                 4.39\r\n",
      "  \"Artisan Grilled Chicken Sandwichx\"                       4.39\r\n",
      "  \"Premium Asian Sald with Crispy Chickenx\"                 4.59\r\n",
      "  \"Premium Asian Sald with Grilled Chickenx\"                4.29\r\n",
      "  \"Bacon Cheddar McChickenx\"                                4.59\r\n",
      "  \"Chicken McNuggetsx\"                                      1.69\r\n",
      "  \"Ranch Snack Wrapx\"                                       1.39\r\n",
      "  \"Small French Friesx\"                                     1.39\r\n",
      "  \"Premium Bacon Ranch Salad with Crispy Chickenx\"          4.59\r\n",
      "  \"Baked Mozzarella Sticksx\"                                1.19   ;\r\n",
      " \r\n",
      "\r\n",
      "# Max and Min for each Nutrient\r\n",
      "param:  N:       Nmin   Nmax    :=\r\n",
      "        Cal      0        800\r\n",
      "        Fat      0        300\r\n",
      "        T        0        65\r\n",
      "        Chol     55       300\r\n",
      "        Na       0        2000\r\n",
      "        Car      0        75\r\n",
      "        F        0        25\r\n",
      "        S        0        15\r\n",
      "        P        30       .\r\n",
      "        VA       0        .\r\n",
      "        VC       10       .\r\n",
      "        Ca       10       .\r\n",
      "        I        10       .    ;\r\n",
      "\r\n",
      "#Cal = kCalories\r\n",
      "#Fat = kCalories from Fat\r\n",
      "#T = Total Fat (g)\r\n",
      "#Chol = Cholesterol (mg)\r\n",
      "#Na = Sodium (mg)\r\n",
      "#Car = Carbohydrates (g)\r\n",
      "#F = Fiber (g)\r\n",
      "#S = Sugar (g)\r\n",
      "#P = Proteine (g)\r\n",
      "#VA = Vitamine A\r\n",
      "#VC = Vitamine C\r\n",
      "#Ca = Calcium\r\n",
      "#I = Iron\r\n",
      "\r\n",
      "# Amount of nutrient\r\n",
      "\r\n",
      "param a:\r\n",
      "                                                           Cal   Fat   T    Chol   Na    Car   F   S    P   VA   VC   Ca  I  :=\r\n",
      "  \"Bacon Clubhouse Burgerx\"                                740   370   41   125   1480  51   4   14   40   8    25   30  25\r\n",
      "  \"Bacon Clubhouse Grilled Chicken Sandwichx\"              610   230   26   125   1750  50   3   14   45   8    30   35  15\r\n",
      "  \"Bacon Clubhouse Crispy Chicken Sandwichx\"               750   340   38   90    1720  65   4   16   36   8    25   30  15             \r\n",
      "  \"McChickenx\"                                             370   150   17   40    650   40   2   5    14   2    0    10  15\r\n",
      "  \"Filet-O-Fishx\"                                          470   190   21   60    810   46   2   5    25   4    8    15  20             \r\n",
      "  \"McRibx\"                                                 390   170   19   40    590   39   2   5    15   2    0    15  10       \r\n",
      "  \"Premium McxWrap Chicken & Bacon (Crispy)\"               500   240   26   70    980   44   3   11   22   2    2    15  20\r\n",
      "  \"Premium McxWrap Chicken & Bacon (Grilled)\"              640   290   32   80    1550  56   4   7    33   100  30   20  25\r\n",
      "  \"Premium McxWrap Chicken & Ranch (Crispy)\"               500   180   19   115   1570  41   3   5    41   100  30   25  20             \r\n",
      "  \"Premium McxWrap Chicken & Ranch (Grilled)\"              610   280   31   65    1350  56   4   7    27   100  20   20  20     \r\n",
      "  \"Premium McxWrap Chicken & Sweet Chili (Crispy)\"         470   170   19   100   1370  41   3   5    35   100  25   25  20\r\n",
      "  \"Premium McxWrap Chicken & Sweet Chili (Grilled)\"        540   200   23   50    1260  61   4   13   24   100  20   10  20 \r\n",
      "  \"Big Macx\"                                               400   90    10   80    1250  46   3   11   31   100  25   15  20            \r\n",
      "  \"Quarter Pounder with Cheesex\"                           540   250   28   80    970   47   3   9    25   6    2    25  25      \r\n",
      "  \"Double Quarter Pounder with Cheesex\"                    540   250   28   100   1110  42   3   10   31   10   4    30  25  \r\n",
      "  \"Hamburguerx\"                                            780   410   45   175   1310  43   3   10   50   10   4    30  40\r\n",
      "  \"Cheeseburgerx\"                                          250   70    8    30    490   32   1   6    12   2    2    10  15\r\n",
      "  \"BBQ Ranch Burgerx\"                                      300   110   12   40    680   33   2   7    15   6    2    20  15\r\n",
      "  \"Grilled Onion Cheddarx\"                                 350   140   15   45    670   37   3   7    15   4    0    20  15\r\n",
      "  \"Double Cheeseburgerx\"                                   310   120   13   45    640   32   2   6    15   2    2    20  15  \r\n",
      "  \"McDoublex\"                                              440   200   22   85    1050  35   2   7    25   10   2    30  20\r\n",
      "  \"Bacon McDoublex\"                                        390   160   18   70    850   34   2   7    22   6    2    20  20\r\n",
      "  \"Ranch Snack Wrap (Crispy)x\"                             440   210   24   75    770   34   2   7    22   8    6    20  20\r\n",
      "  \"Ranch Snack Wrap (Grilled)x\"                            360   180   20   40    810   32   1   3    15   2    0    10  10 \r\n",
      "  \"Mac Snack Wrapx\"                                        290   120   13   55    820   25   1   2    19   2    2    15  10\r\n",
      "  \"Jalapenio Doublex\"                                      330   170   19   45    670   26   1   3    14   2    0    8   15\r\n",
      "  \"Premium Crispy Chicken Deluxe Sandwichx\"                440   210   24   75    990   35   2   6    23   6    8    20  20\r\n",
      "  \"Quarter Pounder Deluxex\"                                530   200   22   45    1000  59   3   13   25   6    10   20  15\r\n",
      "  \"Artisan Grilled Chicken Sandwichx\"                      600   300   33   105   1200  44   3   11   31   15   10   30  25\r\n",
      "  \"Premium Asian Sald with Crispy Chickenx\"                610   230   26   125   1750  50   3   14   45   8    30   35  15\r\n",
      "  \"Premium Asian Sald with Grilled Chickenx\"               410   200   22   45    740   32   5   12   23   180  70   15  15\r\n",
      "  \"Bacon Cheddar McChickenx\"                               440   190   21   55    1120  41   2   6    20   2    10   15  15\r\n",
      "  \"Chicken McNuggetsx\"                                     470   190   21   60    810   46   2   5    25   4    8    15  20\r\n",
      "  \"Ranch Snack Wrapx\"                                      360   180   20   40    810   32   1   3    15   2    0    10  10\r\n",
      "  \"Small French Friesx\"                                    230   100   11   0     130   30   2   0    2    0    30   0   4\r\n",
      "  \"Premium Bacon Ranch Salad with Crispy Chickenx\"         470   210   24   60    890   40   7   11   24   180  35   20  15\r\n",
      "  \"Baked Mozzarella Sticksx\"                               200   90    10   20    560   8    1   1    9    4    0    25  4   ;\r\n"
     ]
    }
   ],
   "source": [
    "# Let's have a look to the data:\n",
    "# Mac or Linux ('!' meaning to be run through the terminal)\n",
    "!cat data/foodmin.dat\n",
    "\n",
    "# Windows via cmd.exe\n",
    "#!type data\\foodmin.dat"
   ]
  },
  {
   "cell_type": "markdown",
   "metadata": {
    "slideshow": {
     "slide_type": "skip"
    }
   },
   "source": [
    "**Note**: Window's users can use `!type data\\foodmin.dat` command instead of `!cat data/foodmin.dat`"
   ]
  },
  {
   "cell_type": "markdown",
   "metadata": {
    "nbpresent": {
     "id": "d8fba60f-f670-442b-8a9d-42480d45e41b"
    },
    "slideshow": {
     "slide_type": "slide"
    }
   },
   "source": [
    "## Solving"
   ]
  },
  {
   "cell_type": "markdown",
   "metadata": {
    "nbpresent": {
     "id": "622683dd-f209-4dd9-8b73-4c12ed985510"
    },
    "slideshow": {
     "slide_type": "slide"
    }
   },
   "source": [
    "#### 3. Model"
   ]
  },
  {
   "cell_type": "code",
   "execution_count": 27,
   "metadata": {
    "nbpresent": {
     "id": "b36cc066-2490-46ea-92b4-494e9ab28a1a"
    },
    "slideshow": {
     "slide_type": "fragment"
    }
   },
   "outputs": [],
   "source": [
    "# The AbstractModel class provides a context for defining and initializing abstract optimization models in Pyomo\n",
    "\n",
    "model = AbstractModel()"
   ]
  },
  {
   "cell_type": "markdown",
   "metadata": {
    "nbpresent": {
     "id": "cc943701-e6c1-4f98-b832-01720d7b3e74"
    },
    "slideshow": {
     "slide_type": "slide"
    }
   },
   "source": [
    "#### 4. Sets"
   ]
  },
  {
   "cell_type": "code",
   "execution_count": 28,
   "metadata": {
    "collapsed": true,
    "nbpresent": {
     "id": "97b2e529-ec85-4625-983a-bf41d844aabd"
    },
    "slideshow": {
     "slide_type": "fragment"
    }
   },
   "outputs": [],
   "source": [
    "## DEFINE SETS\n",
    "# Set data that is used to define a model instance\n",
    "\n",
    "# Products\n",
    "model.F = Set()\n",
    "# Nutrients\n",
    "model.N = Set()"
   ]
  },
  {
   "cell_type": "markdown",
   "metadata": {
    "nbpresent": {
     "id": "2e154902-291d-4593-b4ae-16029c4f66af"
    },
    "slideshow": {
     "slide_type": "slide"
    }
   },
   "source": [
    "#### 5. Parameters"
   ]
  },
  {
   "cell_type": "code",
   "execution_count": 29,
   "metadata": {
    "nbpresent": {
     "id": "30abff24-cfe5-4adf-b304-72a2f87df474"
    },
    "slideshow": {
     "slide_type": "fragment"
    }
   },
   "outputs": [],
   "source": [
    "## DEFINE PARAMETERS\n",
    "# Parameter data that is used to define a model instance\n",
    "\n",
    "# Cost\n",
    "model.c = Param(model.F, within = PositiveReals)\n",
    "\n",
    "# Amount of nutrient\n",
    "model.a    = Param(model.F, model.N, within = NonNegativeReals)\n",
    "\n",
    "# Max and Min for each Nutrient\n",
    "model.Nmin = Param(model.N, within = NonNegativeReals, default = 0.0)\n",
    "model.Nmax = Param(model.N, within = NonNegativeReals, default = infinity)"
   ]
  },
  {
   "cell_type": "markdown",
   "metadata": {
    "nbpresent": {
     "id": "643b7340-4ea9-4ca0-b200-5658be6a12df"
    },
    "slideshow": {
     "slide_type": "slide"
    }
   },
   "source": [
    "#### 6. Variables"
   ]
  },
  {
   "cell_type": "code",
   "execution_count": 30,
   "metadata": {
    "nbpresent": {
     "id": "d072c23c-ddf7-48da-81c0-103c66fa1d71"
    },
    "scrolled": true,
    "slideshow": {
     "slide_type": "fragment"
    }
   },
   "outputs": [],
   "source": [
    "## VARIABLES\n",
    "# Decision variables in a model\n",
    "\n",
    "# Number of servings (notice we are using integers)\n",
    "model.x = Var(model.F, within = NonNegativeIntegers)"
   ]
  },
  {
   "cell_type": "markdown",
   "metadata": {
    "nbpresent": {
     "id": "79718eb5-94eb-4467-b6c0-9defea065589"
    },
    "slideshow": {
     "slide_type": "slide"
    }
   },
   "source": [
    "#### 7. Objective"
   ]
  },
  {
   "cell_type": "code",
   "execution_count": 31,
   "metadata": {
    "nbpresent": {
     "id": "96395026-b33f-4c76-b6f6-5b40e0d165a2"
    },
    "scrolled": true,
    "slideshow": {
     "slide_type": "fragment"
    }
   },
   "outputs": [],
   "source": [
    "## OBJECTIVE\n",
    "# Expressions that are minimized or maximized in a model\n",
    "\n",
    "# Minimize z(cost)\n",
    "def cost(model):\n",
    "    return sum(model.c[i] * model.x[i] for i in model.F)\n",
    "model.cost = Objective(rule=cost)"
   ]
  },
  {
   "cell_type": "markdown",
   "metadata": {
    "nbpresent": {
     "id": "67286808-17b0-45a8-9b50-754eda838545"
    },
    "slideshow": {
     "slide_type": "slide"
    }
   },
   "source": [
    "#### 8. Constraints"
   ]
  },
  {
   "cell_type": "code",
   "execution_count": 32,
   "metadata": {
    "nbpresent": {
     "id": "046b2829-6922-4492-806e-ea96602aaee0"
    },
    "scrolled": true,
    "slideshow": {
     "slide_type": "fragment"
    }
   },
   "outputs": [],
   "source": [
    "## CONSTRAINTS\n",
    "# Constraint expressions that impose restrictions on variable values in a model\n",
    "\n",
    "#Max\n",
    "def nutrients_max(model, j):\n",
    "    value = sum(model.a[i,j] * model.x[i] for i in model.F)\n",
    "    return value <= model.Nmax[j]\n",
    "model.nutrient_limit_max = Constraint(model.N, rule=nutrients_max)\n",
    "\n",
    "#Min\n",
    "def nutrient_min(model, j):\n",
    "    value = sum(model.a[i,j] * model.x[i] for i in model.F)\n",
    "    return model.Nmin[j] <= value \n",
    "model.nutrient_limit_min = Constraint(model.N, rule=nutrient_min)"
   ]
  },
  {
   "cell_type": "markdown",
   "metadata": {
    "nbpresent": {
     "id": "831ffd83-c3ba-447e-933a-49d6e2182e19"
    },
    "slideshow": {
     "slide_type": "slide"
    }
   },
   "source": [
    "## Solving a model"
   ]
  },
  {
   "cell_type": "code",
   "execution_count": 36,
   "metadata": {
    "nbpresent": {
     "id": "32b43d5f-b621-4b3a-8400-8d7e8b2147c3"
    },
    "scrolled": true,
    "slideshow": {
     "slide_type": "subslide"
    }
   },
   "outputs": [
    {
     "name": "stdout",
     "output_type": "stream",
     "text": [
      "[    0.00] Setting up Pyomo environment\n",
      "[    0.00] Applying Pyomo preprocessing actions\n",
      "[    0.00] Creating model\n",
      "[    0.08] Applying solver\n",
      "[    0.10] Processing results\n",
      "    Number of solutions: 1\n",
      "    Solution Information\n",
      "      Gap: 0.0\n",
      "      Status: optimal\n",
      "      Function Value: 3.69\n",
      "    Solver results file: results.yml\n",
      "[    0.11] Applying Pyomo postprocessing actions\n",
      "[    0.11] Pyomo Finished\n"
     ]
    }
   ],
   "source": [
    "#To get a solution:\n",
    "\n",
    "# Mac or Linux ('!' meaning to be run through the terminal)\n",
    "!pyomo solve --solver=glpk problems/diet-minimize/minimizecost.py data/foodmin.dat\n",
    "\n",
    "# windows:\n",
    "#!pyomo solve --solver=glpk problems\\diet-minimize\\minimizecost.py data\\foodmin.dat"
   ]
  },
  {
   "cell_type": "markdown",
   "metadata": {
    "nbpresent": {
     "id": "5505f380-4b53-4c01-8418-95ba767d4828"
    },
    "slideshow": {
     "slide_type": "slide"
    }
   },
   "source": [
    "##  Results"
   ]
  },
  {
   "cell_type": "markdown",
   "metadata": {
    "slideshow": {
     "slide_type": "fragment"
    }
   },
   "source": [
    "Lets have a look to the results now since...\n",
    "**We are HUNGRY!**"
   ]
  },
  {
   "cell_type": "code",
   "execution_count": 39,
   "metadata": {
    "nbpresent": {
     "id": "88221456-df6f-46a0-a3e3-1f64d9caf78f"
    },
    "scrolled": false,
    "slideshow": {
     "slide_type": "slide"
    }
   },
   "outputs": [
    {
     "name": "stdout",
     "output_type": "stream",
     "text": [
      "# ==========================================================\r\n",
      "# = Solver Results                                         =\r\n",
      "# ==========================================================\r\n",
      "# ----------------------------------------------------------\r\n",
      "#   Problem Information\r\n",
      "# ----------------------------------------------------------\r\n",
      "Problem: \r\n",
      "- Name: unknown\r\n",
      "  Lower bound: 3.69\r\n",
      "  Upper bound: 3.69\r\n",
      "  Number of objectives: 1\r\n",
      "  Number of constraints: 22\r\n",
      "  Number of variables: 38\r\n",
      "  Number of nonzeros: 765\r\n",
      "  Sense: minimize\r\n",
      "# ----------------------------------------------------------\r\n",
      "#   Solver Information\r\n",
      "# ----------------------------------------------------------\r\n",
      "Solver: \r\n",
      "- Status: ok\r\n",
      "  Termination condition: optimal\r\n",
      "  Statistics: \r\n",
      "    Branch and bound: \r\n",
      "      Number of bounded subproblems: 43\r\n",
      "      Number of created subproblems: 43\r\n",
      "  Error rc: 0\r\n",
      "  Time: 0.014382600784301758\r\n",
      "# ----------------------------------------------------------\r\n",
      "#   Solution Information\r\n",
      "# ----------------------------------------------------------\r\n",
      "Solution: \r\n",
      "- number of solutions: 1\r\n",
      "  number of solutions displayed: 1\r\n",
      "- Gap: 0.0\r\n",
      "  Status: optimal\r\n",
      "  Message: None\r\n",
      "  Objective:\r\n",
      "    cost:\r\n",
      "      Value: 3.69\r\n",
      "  Variable:\r\n",
      "    x[Big Macx]:\r\n",
      "      Value: 1\r\n",
      "  Constraint: No values\r\n"
     ]
    }
   ],
   "source": [
    "# Mac or Linux ('!' meaning to be run through the terminal)\n",
    "!cat results.yml"
   ]
  },
  {
   "cell_type": "markdown",
   "metadata": {
    "nbpresent": {
     "id": "5b6b5b39-ea46-4558-9734-1e27195c1db2"
    },
    "slideshow": {
     "slide_type": "slide"
    }
   },
   "source": [
    "The solution we have obtained using Pyomo is a **Big Macx** which has the folliwing input of calories and nutrients for $3.69"
   ]
  },
  {
   "cell_type": "markdown",
   "metadata": {
    "nbpresent": {
     "id": "113bdd5d-d832-465b-b89e-376dd6e8415e"
    },
    "slideshow": {
     "slide_type": "subslide"
    }
   },
   "source": [
    "<img src=\"img/BMburger-wikipedia.png\" style=\"width: 150px;\"/>\n",
    "<img src=\"img/BMburger.png\" alt=\"Burger-example\" style=\"width: 800px;\"/>"
   ]
  },
  {
   "cell_type": "code",
   "execution_count": null,
   "metadata": {},
   "outputs": [],
   "source": []
  }
 ],
 "metadata": {
  "anaconda-cloud": {},
  "celltoolbar": "Slideshow",
  "hide_input": false,
  "kernelspec": {
   "display_name": "Python 3",
   "language": "python",
   "name": "python3"
  },
  "language_info": {
   "codemirror_mode": {
    "name": "ipython",
    "version": 3
   },
   "file_extension": ".py",
   "mimetype": "text/x-python",
   "name": "python",
   "nbconvert_exporter": "python",
   "pygments_lexer": "ipython3",
   "version": "3.5.2"
  },
  "nbpresent": {
   "slides": {
    "f6e29940-c3fa-43d9-85f2-075f75bbb843": {
     "id": "f6e29940-c3fa-43d9-85f2-075f75bbb843",
     "layout": "manual",
     "prev": "fddfa8b7-b1a4-4a27-aa78-d93c53d70c55",
     "regions": {
      "00d9bd16-7c00-43f3-8a42-8bfec9943a82": {
       "attrs": {
        "height": 0.8591016548463358,
        "width": 0.9023936170212766,
        "x": 0.0566489361702128,
        "y": 0.07765957446808516
       },
       "content": {
        "cell": "239b7429-60c6-4846-9d95-76d9d394382f",
        "part": "source"
       },
       "id": "00d9bd16-7c00-43f3-8a42-8bfec9943a82",
       "width": 0.8,
       "x": 0.4,
       "y": 0.4
      }
     }
    },
    "fddfa8b7-b1a4-4a27-aa78-d93c53d70c55": {
     "id": "fddfa8b7-b1a4-4a27-aa78-d93c53d70c55",
     "prev": null,
     "regions": {
      "f344628c-f354-420f-843a-e40733a3ace1": {
       "attrs": {
        "height": 0.8,
        "width": 0.8,
        "x": 0.1,
        "y": 0.1
       },
       "content": {
        "cell": "2e4fb60c-5225-4a97-b107-0d109e7402e1",
        "part": "source"
       },
       "id": "f344628c-f354-420f-843a-e40733a3ace1",
       "x": 0.8,
       "y": 0.8
      }
     }
    }
   },
   "themes": {
    "default": "8cc5bf27-52f9-44e9-b427-f1d70fff4a5a",
    "theme": {
     "8cc5bf27-52f9-44e9-b427-f1d70fff4a5a": {
      "backgrounds": {
       "backgroundColor": {
        "background-color": "backgroundColor",
        "id": "backgroundColor"
       }
      },
      "id": "8cc5bf27-52f9-44e9-b427-f1d70fff4a5a",
      "palette": {
       "backgroundColor": {
        "id": "backgroundColor",
        "rgb": [
         247,
         251,
         252
        ]
       },
       "headingColor": {
        "id": "headingColor",
        "rgb": [
         51,
         51,
         51
        ]
       },
       "linkColor": {
        "id": "linkColor",
        "rgb": [
         59,
         117,
         158
        ]
       },
       "mainColor": {
        "id": "mainColor",
        "rgb": [
         51,
         51,
         51
        ]
       }
      },
      "rules": {
       "a": {
        "color": "linkColor"
       },
       "h1": {
        "color": "headingColor",
        "font-family": "Quicksand",
        "font-size": 7
       },
       "h2": {
        "color": "headingColor",
        "font-family": "Quicksand",
        "font-size": 5
       },
       "h3": {
        "color": "headingColor",
        "font-family": "Quicksand",
        "font-size": 3.75
       },
       "h4": {
        "color": "headingColor",
        "font-family": "Quicksand",
        "font-size": 3
       },
       "h5": {
        "color": "headingColor",
        "font-family": "Quicksand"
       },
       "h6": {
        "color": "headingColor",
        "font-family": "Quicksand"
       },
       "h7": {
        "color": "headingColor",
        "font-family": "Quicksand"
       },
       "li": {
        "color": "mainColor",
        "font-family": "Open Sans",
        "font-size": 5
       },
       "p": {
        "color": "mainColor",
        "font-family": "Open Sans",
        "font-size": 5
       }
      },
      "text-base": {
       "color": "mainColor",
       "font-family": "Open Sans",
       "font-size": 5
      }
     },
     "da3fb2b2-d033-467b-b37e-07215272b6ca": {
      "backgrounds": {
       "backgroundColor": {
        "background-color": "backgroundColor",
        "id": "backgroundColor"
       }
      },
      "id": "da3fb2b2-d033-467b-b37e-07215272b6ca",
      "palette": {
       "backgroundColor": {
        "id": "backgroundColor",
        "rgb": [
         256,
         256,
         256
        ]
       },
       "headingColor": {
        "id": "headingColor",
        "rgb": [
         34,
         34,
         34
        ]
       },
       "linkColor": {
        "id": "linkColor",
        "rgb": [
         42,
         118,
         221
        ]
       },
       "mainColor": {
        "id": "mainColor",
        "rgb": [
         34,
         34,
         34
        ]
       }
      },
      "rules": {
       "a": {
        "color": "linkColor"
       },
       "h1": {
        "color": "headingColor",
        "font-family": "Source Sans Pro",
        "font-size": 5.25
       },
       "h2": {
        "color": "headingColor",
        "font-family": "Source Sans Pro",
        "font-size": 4
       },
       "h3": {
        "color": "headingColor",
        "font-family": "Source Sans Pro",
        "font-size": 3.5
       },
       "h4": {
        "color": "headingColor",
        "font-family": "Source Sans Pro",
        "font-size": 3
       },
       "h5": {
        "color": "headingColor",
        "font-family": "Source Sans Pro"
       },
       "h6": {
        "color": "headingColor",
        "font-family": "Source Sans Pro"
       },
       "h7": {
        "color": "headingColor",
        "font-family": "Source Sans Pro"
       },
       "li": {
        "color": "mainColor",
        "font-family": "Source Sans Pro",
        "font-size": 6
       },
       "p": {
        "color": "mainColor",
        "font-family": "Source Sans Pro",
        "font-size": 6
       }
      },
      "text-base": {
       "color": "mainColor",
       "font-family": "Source Sans Pro",
       "font-size": 6
      }
     }
    }
   }
  },
  "toc": {
   "nav_menu": {},
   "number_sections": true,
   "sideBar": true,
   "skip_h1_title": false,
   "toc_cell": false,
   "toc_position": {},
   "toc_section_display": "block",
   "toc_window_display": false
  },
  "varInspector": {
   "cols": {
    "lenName": 16,
    "lenType": 16,
    "lenVar": 40
   },
   "kernels_config": {
    "python": {
     "delete_cmd_postfix": "",
     "delete_cmd_prefix": "del ",
     "library": "var_list.py",
     "varRefreshCmd": "print(var_dic_list())"
    },
    "r": {
     "delete_cmd_postfix": ") ",
     "delete_cmd_prefix": "rm(",
     "library": "var_list.r",
     "varRefreshCmd": "cat(var_dic_list()) "
    }
   },
   "types_to_exclude": [
    "module",
    "function",
    "builtin_function_or_method",
    "instance",
    "_Feature"
   ],
   "window_display": false
  }
 },
 "nbformat": 4,
 "nbformat_minor": 1
}
