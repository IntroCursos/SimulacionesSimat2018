{
 "cells": [
  {
   "cell_type": "markdown",
   "metadata": {
    "slideshow": {
     "slide_type": "slide"
    }
   },
   "source": [
    "# DIET PROBLEM - PYOMO\n",
    "\n",
    "*Zuria Bauer Hartwig and David Senén García Hurtado* ( [CAChemE](http://cacheme.org))"
   ]
  },
  {
   "cell_type": "markdown",
   "metadata": {
    "slideshow": {
     "slide_type": "subslide"
    }
   },
   "source": [
    "Sources:\n",
    "\n",
    "* Original Problem: [Linear and Integer Programming](https://www.coursera.org/course/linearprogramming) (Coursera Course) - University of Colorado Boulder & University of Colorado System\n",
    "\n",
    "* Based on the Examples from the Optimization Course = [Taller-Optimizacion-Python-Pyomo](https://github.com/CAChemE/Taller-Optimizacion-Python-Pyomo) from [CAChemE.org](http://cacheme.org/optimizacion-programacion-matematica-con-python-pyomo/)\n",
    "\n",
    "* [Neos Guide - The Diet Problem](http://www.neos-guide.org/content/diet-problem)"
   ]
  },
  {
   "cell_type": "markdown",
   "metadata": {
    "slideshow": {
     "slide_type": "slide"
    }
   },
   "source": [
    "## Big picture"
   ]
  },
  {
   "cell_type": "markdown",
   "metadata": {
    "slideshow": {
     "slide_type": "slide"
    }
   },
   "source": [
    "Now let's play with Pyomo. What if we want to maximize the amount of calories we can get for less than $5?"
   ]
  },
  {
   "cell_type": "markdown",
   "metadata": {
    "slideshow": {
     "slide_type": "fragment"
    }
   },
   "source": [
    "<img src=\"img/now-talking.jpg\" alt=\"talking\" style=\"width: 500px;\"/>"
   ]
  },
  {
   "cell_type": "markdown",
   "metadata": {
    "slideshow": {
     "slide_type": "slide"
    }
   },
   "source": [
    "#### 1. Import"
   ]
  },
  {
   "cell_type": "code",
   "execution_count": 3,
   "metadata": {
    "collapsed": true,
    "slideshow": {
     "slide_type": "fragment"
    }
   },
   "outputs": [],
   "source": [
    "from pyomo.environ import *\n",
    "infinity = float('inf')\n",
    "\n",
    "# We are importing Pyomo library to our Python enviroment\n",
    "\n",
    "# Side-note:\n",
    "# Usually importing all (*) the library is a VERY BAD idea\n",
    "# By convention Pyomo documentation does that so here we are"
   ]
  },
  {
   "cell_type": "markdown",
   "metadata": {
    "slideshow": {
     "slide_type": "slide"
    }
   },
   "source": [
    "# 2. Data"
   ]
  },
  {
   "cell_type": "markdown",
   "metadata": {
    "slideshow": {
     "slide_type": "subslide"
    }
   },
   "source": [
    "We can use the following data:\n",
    "\n",
    "- http://nutrition.mcdonalds.com/getnutrition/nutritionfacts.pdf (dead link)\n",
    "- http://fastfoodnutrition.org/mcdonalds/chart\n",
    "- http://www.fastfoodmenuprices.com/mcdonalds-prices/"
   ]
  },
  {
   "cell_type": "code",
   "execution_count": 1,
   "metadata": {
    "collapsed": false,
    "slideshow": {
     "slide_type": "slide"
    }
   },
   "outputs": [
    {
     "name": "stdout",
     "output_type": "stream",
     "text": [
      "# http://nutrition.mcdonalds.com/getnutrition/nutritionfacts.pdf\n",
      "# http://www.fastfoodmenuprices.com/mcdonalds-prices/\n",
      "\n",
      "#Food + Cost\n",
      "\n",
      "param:  F:                                                 Cal  :=\n",
      "  \"Bacon Clubhouse Burgerx\"                                740\n",
      "  \"Bacon Clubhouse Grilled Chicken Sandwichx\"              610\n",
      "  \"Bacon Clubhouse Crispy Chicken Sandwichx\"               750             \n",
      "  \"McChickenx\"                                             370\n",
      "  \"Filet-O-Fishx\"                                          470             \n",
      "  \"McRibx\"                                                 390       \n",
      "  \"Premium McWrap Chicken & Bacon (Crispy)x\"               500\n",
      "  \"Premium McWrap Chicken & Bacon (Grilled)x\"              640\n",
      "  \"Premium McWrap Chicken & Ranch (Crispy)x\"               500             \n",
      "  \"Premium McWrap Chicken & Ranch (Grilled)x\"              610     \n",
      "  \"Premium McWrap Chicken & Sweet Chili (Crispy)x\"         470\n",
      "  \"Premium McWrap Chicken & Sweet Chili (Grilled)x\"        540\n",
      "  \"Big Macx\"                                               400            \n",
      "  \"Quarter Pounder with Cheesex\"                           540      \n",
      "  \"Double Quarter Pounder with Cheesex\"                    540  \n",
      "  \"Hamburguerx\"                                            780\n",
      "  \"Cheeseburgerx\"                                          250\n",
      "  \"BBQ Ranch Burgerx\"                                      300\n",
      "  \"Grilled Onion Ringsx\"                                   350\n",
      "  \"Double Cheeseburgerx\"                                   310  \n",
      "  \"McDoublex\"                                              440\n",
      "  \"Bacon McDoublex\"                                        390\n",
      "  \"Ranch Snack Wrap (Crispy)x\"                             440\n",
      "  \"Ranch Snack Wrap (Grilled)x\"                            360\n",
      "  \"Mac Snack Wrapx\"                                        290\n",
      "  \"Jalapenio Doublex\"                                      330\n",
      "  \"Premium Crispy Chicken Deluxe Sandwichx\"                440\n",
      "  \"Quarter Pounder Deluxex\"                                530\n",
      "  \"Artisan Grilled Chicken Sandwichx\"                      600\n",
      "  \"Buttermilk Crispy Chicken Sandwichx\"                    360\n",
      "  \"Premium Asian Sald with Crispy Chickenx\"                610\n",
      "  \"Premium Asian Sald with Grilled Chickenx\"               410\n",
      "  \"Bacon Cheddar McChickenx\"                               440\n",
      "  \"Chicken McNuggetsx\"                                     470\n",
      "  \"Ranch Snack Wrapx\"                                      360\n",
      "  \"Small French Friesx\"                                    230\n",
      "  \"Premium Bacon Ranch Salad with Crispy Chickenx\"         470\n",
      "  \"Baked Mozzarella Sticksx\"                               200  ; \n",
      "\n",
      "# Max and Min Cost\n",
      "param:  N:       Cmin   Cmax    :=\n",
      "        Cost     0      5;\n",
      "\n",
      "\n",
      "\n",
      "# Amount of nutrient\n",
      "\n",
      "param a:\n",
      "                                                            Cost :=\n",
      "  \"Bacon Clubhouse Burgerx\"                                 4.49\n",
      "  \"Bacon Clubhouse Grilled Chicken Sandwichx\"               4.00\n",
      "  \"Bacon Clubhouse Crispy Chicken Sandwichx\"                4.00\n",
      "  \"McChickenx\"                                              4.00\n",
      "  \"Filet-O-Fishx\"                                           4.79\n",
      "  \"McRibx\"                                                  3.79\n",
      "  \"Premium McWrap Chicken & Bacon (Crispy)x\"                2.99\n",
      "  \"Premium McWrap Chicken & Bacon (Grilled)x\"               3.99\n",
      "  \"Premium McWrap Chicken & Ranch (Crispy)x\"                3.99               \n",
      "  \"Premium McWrap Chicken & Ranch (Grilled)x\"               3.99\n",
      "  \"Premium McWrap Chicken & Sweet Chili (Crispy)x\"          3.99\n",
      "  \"Premium McWrap Chicken & Sweet Chili (Grilled)x\"         3.99\n",
      "  \"Big Macx\"                                                3.69   \n",
      "  \"Quarter Pounder with Cheesex\"                            3.69\n",
      "  \"Double Quarter Pounder with Cheesex\"                     1.29  \n",
      "  \"Hamburguerx\"                                             1.29\n",
      "  \"Cheeseburgerx\"                                           1.00\n",
      "  \"BBQ Ranch Burgerx\"                                       1.29\n",
      "  \"Grilled Onion Ringsx\"                                    1.00\n",
      "  \"Double Cheeseburgerx\"                                    2.00 \n",
      "  \"McDoublex\"                                               2.00\n",
      "  \"Bacon McDoublex\"                                         1.99\n",
      "  \"Ranch Snack Wrap (Crispy)x\"                              1.59\n",
      "  \"Ranch Snack Wrap (Grilled)x\"                             1.59\n",
      "  \"Mac Snack Wrapx\"                                         2.00\n",
      "  \"Jalapenio Doublex\"                                       3.89\n",
      "  \"Premium Crispy Chicken Deluxe Sandwichx\"                 3.99\n",
      "  \"Quarter Pounder Deluxex\"                                 4.39\n",
      "  \"Artisan Grilled Chicken Sandwichx\"                       4.39\n",
      "  \"Buttermilk Crispy Chicken Sandwichx\"                     4.19\n",
      "  \"Premium Asian Sald with Crispy Chickenx\"                 4.59\n",
      "  \"Premium Asian Sald with Grilled Chickenx\"                4.29\n",
      "  \"Bacon Cheddar McChickenx\"                                4.59\n",
      "  \"Chicken McNuggetsx\"                                      1.69\n",
      "  \"Ranch Snack Wrapx\"                                       1.39\n",
      "  \"Small French Friesx\"                                     1.39\n",
      "  \"Premium Bacon Ranch Salad with Crispy Chickenx\"          4.59\n",
      "  \"Baked Mozzarella Sticksx\"                                1.19   ;\n"
     ]
    }
   ],
   "source": [
    "# Let's have a look to the data:\n",
    "# Mac or Linux ('!' meaning to be run through the terminal)\n",
    "!cat data/foodmax.dat\n",
    "\n",
    "# Windows via cmd.exe\n",
    "#!type data\\foodmax.dat"
   ]
  },
  {
   "cell_type": "markdown",
   "metadata": {
    "slideshow": {
     "slide_type": "skip"
    }
   },
   "source": [
    "**Note**: Window's users can use `!type data\\food-max.dat` command instead of `!cat data/food-max.dat`"
   ]
  },
  {
   "cell_type": "markdown",
   "metadata": {
    "slideshow": {
     "slide_type": "slide"
    }
   },
   "source": [
    "### Solving"
   ]
  },
  {
   "cell_type": "markdown",
   "metadata": {
    "slideshow": {
     "slide_type": "slide"
    }
   },
   "source": [
    "#### 3. Model"
   ]
  },
  {
   "cell_type": "code",
   "execution_count": 5,
   "metadata": {
    "collapsed": true,
    "slideshow": {
     "slide_type": "fragment"
    }
   },
   "outputs": [],
   "source": [
    "# The AbstractModel class provides a context for defining and initializing abstract optimization models in Pyomo\n",
    "\n",
    "model = AbstractModel()"
   ]
  },
  {
   "cell_type": "markdown",
   "metadata": {
    "slideshow": {
     "slide_type": "slide"
    }
   },
   "source": [
    "#### 4. Sets"
   ]
  },
  {
   "cell_type": "code",
   "execution_count": 6,
   "metadata": {
    "collapsed": true,
    "slideshow": {
     "slide_type": "fragment"
    }
   },
   "outputs": [],
   "source": [
    "## DEFINE SETS\n",
    "# Set data that is used to define a model instance\n",
    "\n",
    "# Products\n",
    "model.F = Set()\n",
    "# Nutrients\n",
    "model.N = Set()"
   ]
  },
  {
   "cell_type": "markdown",
   "metadata": {
    "slideshow": {
     "slide_type": "slide"
    }
   },
   "source": [
    "#### 5. Parameters"
   ]
  },
  {
   "cell_type": "code",
   "execution_count": 7,
   "metadata": {
    "collapsed": false,
    "slideshow": {
     "slide_type": "fragment"
    }
   },
   "outputs": [],
   "source": [
    "## DEFINE PARAMETERS\n",
    "# Parameter data that is used to define a model instance\n",
    "\n",
    "# Calories\n",
    "model.Cal = Param(model.F, within = PositiveReals)\n",
    "\n",
    "# Cost\n",
    "model.a    = Param(model.F, model.N, within = NonNegativeReals)\n",
    "\n",
    "# Max and Min Cost\n",
    "model.Cmin = Param(model.N, within = NonNegativeReals, default = 0.0)\n",
    "model.Cmax = Param(model.N, within = NonNegativeReals, default = infinity)"
   ]
  },
  {
   "cell_type": "markdown",
   "metadata": {
    "slideshow": {
     "slide_type": "slide"
    }
   },
   "source": [
    "#### 6. Variables"
   ]
  },
  {
   "cell_type": "code",
   "execution_count": 8,
   "metadata": {
    "collapsed": false,
    "scrolled": true,
    "slideshow": {
     "slide_type": "fragment"
    }
   },
   "outputs": [],
   "source": [
    "## VARIABLES\n",
    "# Decision variables in a model\n",
    "\n",
    "# Number of servings\n",
    "model.x = Var(model.F, within = NonNegativeIntegers)\n"
   ]
  },
  {
   "cell_type": "markdown",
   "metadata": {
    "slideshow": {
     "slide_type": "slide"
    }
   },
   "source": [
    "#### 7. Objective"
   ]
  },
  {
   "cell_type": "code",
   "execution_count": 9,
   "metadata": {
    "collapsed": false,
    "scrolled": true,
    "slideshow": {
     "slide_type": "fragment"
    }
   },
   "outputs": [],
   "source": [
    "## OBJECTIVE\n",
    "# Expressions that are minimized or maximized in a model\n",
    "\n",
    "# MAXIMIZE z(calories)\n",
    "def calories(model):\n",
    "    return sum(model.Cal[i] * model.x[i] for i in model.F)\n",
    "model.calories = Objective(rule=calories, sense=maximize)"
   ]
  },
  {
   "cell_type": "markdown",
   "metadata": {
    "slideshow": {
     "slide_type": "slide"
    }
   },
   "source": [
    "#### 8. Constrains"
   ]
  },
  {
   "cell_type": "code",
   "execution_count": 10,
   "metadata": {
    "collapsed": false,
    "scrolled": true,
    "slideshow": {
     "slide_type": "fragment"
    }
   },
   "outputs": [],
   "source": [
    "## CONSTRAINS\n",
    "# Constraint expressions that impose restrictions on variable values in a model\n",
    "\n",
    "#Max\n",
    "def cost_max(model, j):\n",
    "    value = sum(model.a[i,j] * model.x[i] for i in model.F)\n",
    "    return value <= model.Cmax[j]\n",
    "model.cost_limit_max = Constraint(model.N, rule=cost_max)\n",
    "\n",
    "#Min\n",
    "def cost_min(model, j):\n",
    "    value = sum(model.a[i,j] * model.x[i] for i in model.F)\n",
    "    return model.Cmin[j] <= value \n",
    "model.cost_limit_min = Constraint(model.N, rule=cost_min)"
   ]
  },
  {
   "cell_type": "markdown",
   "metadata": {
    "slideshow": {
     "slide_type": "slide"
    }
   },
   "source": [
    "#### 9. Solution"
   ]
  },
  {
   "cell_type": "code",
   "execution_count": 15,
   "metadata": {
    "collapsed": false,
    "slideshow": {
     "slide_type": "slide"
    }
   },
   "outputs": [
    {
     "name": "stdout",
     "output_type": "stream",
     "text": [
      "[    0.00] Setting up Pyomo environment\n",
      "[    0.00] Applying Pyomo preprocessing actions\n",
      "[    0.00] Creating model\n",
      "[    0.03] Applying solver\n",
      "[    0.04] Processing results\n",
      "    Number of solutions: 1\n",
      "    Solution Information\n",
      "      Gap: 0.0\n",
      "      Status: optimal\n",
      "      Function Value: 2690.0\n",
      "    Solver results file: results.yml\n",
      "[    0.04] Applying Pyomo postprocessing actions\n",
      "[    0.04] Pyomo Finished\n"
     ]
    }
   ],
   "source": [
    "##SOLUTION\n",
    "#Get our Solution:\n",
    "\n",
    "!pyomo solve --solver=glpk problems/diet-maximize/pyomo-max.py data/food-max.dat\n",
    "\n",
    "# windows\n",
    "#!pyomo solve --solver=glpk problems\\diet-maximize\\pyomo-max.py data\\food-max.dat"
   ]
  },
  {
   "cell_type": "markdown",
   "metadata": {
    "slideshow": {
     "slide_type": "slide"
    }
   },
   "source": [
    "#### 10. Results"
   ]
  },
  {
   "cell_type": "code",
   "execution_count": 16,
   "metadata": {
    "collapsed": false,
    "slideshow": {
     "slide_type": "subslide"
    }
   },
   "outputs": [
    {
     "name": "stdout",
     "output_type": "stream",
     "text": [
      "# ==========================================================\r\n",
      "# = Solver Results                                         =\r\n",
      "# ==========================================================\r\n",
      "# ----------------------------------------------------------\r\n",
      "#   Problem Information\r\n",
      "# ----------------------------------------------------------\r\n",
      "Problem: \r\n",
      "- Name: unknown\r\n",
      "  Lower bound: 2690.0\r\n",
      "  Upper bound: 2690.0\r\n",
      "  Number of objectives: 1\r\n",
      "  Number of constraints: 3\r\n",
      "  Number of variables: 39\r\n",
      "  Number of nonzeros: 77\r\n",
      "  Sense: maximize\r\n",
      "# ----------------------------------------------------------\r\n",
      "#   Solver Information\r\n",
      "# ----------------------------------------------------------\r\n",
      "Solver: \r\n",
      "- Status: ok\r\n",
      "  Termination condition: optimal\r\n",
      "  Statistics: \r\n",
      "    Branch and bound: \r\n",
      "      Number of bounded subproblems: 3\r\n",
      "      Number of created subproblems: 3\r\n",
      "  Error rc: 0\r\n",
      "  Time: 0.0051555633544921875\r\n",
      "# ----------------------------------------------------------\r\n",
      "#   Solution Information\r\n",
      "# ----------------------------------------------------------\r\n",
      "Solution: \r\n",
      "- number of solutions: 1\r\n",
      "  number of solutions displayed: 1\r\n",
      "- Gap: 0.0\r\n",
      "  Status: optimal\r\n",
      "  Message: None\r\n",
      "  Objective:\r\n",
      "    calories:\r\n",
      "      Value: 2690\r\n",
      "  Variable:\r\n",
      "    x[Hamburguerx]:\r\n",
      "      Value: 3\r\n",
      "    x[Grilled Onion Ringsx]:\r\n",
      "      Value: 1\r\n",
      "  Constraint: No values\r\n"
     ]
    }
   ],
   "source": [
    "## Lets have a look to the results now since we are hungry!\n",
    "\n",
    "# Mac or Linux ('!' meaning to be run through the terminal)\n",
    "!cat results.yml"
   ]
  },
  {
   "cell_type": "markdown",
   "metadata": {
    "slideshow": {
     "slide_type": "slide"
    }
   },
   "source": [
    "##### Results"
   ]
  },
  {
   "cell_type": "markdown",
   "metadata": {
    "slideshow": {
     "slide_type": "subslide"
    }
   },
   "source": [
    "- ** 3 plain hamburguers =** 1.29€\n",
    "<img src=\"img/Hamburger.jpg\" alt=\"Hamburger\" style=\"width: 300px;\"/>\n",
    "\n",
    "- ** 1 Grilled Onion Rings =** 1.00€\n",
    "<img src=\"img/onion-rings.png\" alt=\"Onion\" style=\"width: 300px;\"/>"
   ]
  }
 ],
 "metadata": {
  "anaconda-cloud": {},
  "celltoolbar": "Slideshow",
  "kernelspec": {
   "display_name": "Python [pyomo35]",
   "language": "python",
   "name": "Python [pyomo35]"
  },
  "language_info": {
   "codemirror_mode": {
    "name": "ipython",
    "version": 3
   },
   "file_extension": ".py",
   "mimetype": "text/x-python",
   "name": "python",
   "nbconvert_exporter": "python",
   "pygments_lexer": "ipython3",
   "version": "3.5.2"
  }
 },
 "nbformat": 4,
 "nbformat_minor": 0
}
