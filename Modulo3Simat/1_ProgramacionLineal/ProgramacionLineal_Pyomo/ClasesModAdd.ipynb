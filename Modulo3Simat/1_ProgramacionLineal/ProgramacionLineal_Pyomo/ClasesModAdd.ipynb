{
 "cells": [
  {
   "cell_type": "code",
   "execution_count": 2,
   "metadata": {
    "scrolled": true
   },
   "outputs": [
    {
     "name": "stdout",
     "output_type": "stream",
     "text": [
      "Visits: 10, Contacts: 1\n",
      "Visits: 20, Contacts: 2\n",
      "Visits: 30, Contacts: 3\n",
      "Visits: 60, Contacts: 6\n"
     ]
    }
   ],
   "source": [
    "class Day(object):\n",
    "    def __init__(self, visits, contacts):\n",
    "        self.visits = visits\n",
    "        self.contacts = contacts\n",
    "\n",
    "    def __add__(self, other):\n",
    "        total_visits = self.visits + other.visits\n",
    "        total_contacts = self.contacts + other.contacts\n",
    "        return Day(total_visits, total_contacts)\n",
    "\n",
    "    def __radd__(self, other):\n",
    "        if other == 0:\n",
    "            return self\n",
    "        else:\n",
    "            return self.__add__(other)\n",
    "\n",
    "    def __str__(self):\n",
    "        return \"Visits: %i, Contacts: %i\" % (self.visits, self.contacts)\n",
    "\n",
    "day1 = Day(10, 1)\n",
    "day2 = Day(20, 2)\n",
    "print(day1)\n",
    "# Visits: 10, Contacts: 1\n",
    "print(day2)\n",
    "# Visits: 20, Contacts: 2\n",
    "\n",
    "day3 = day1 + day2\n",
    "print(day3)\n",
    "# Visits: 30, Contacts: 3\n",
    "\n",
    "day4 = sum([day1, day2, day3])\n",
    "print(day4)\n",
    "# Visits: 60, Contacts: 6"
   ]
  },
  {
   "cell_type": "code",
   "execution_count": 4,
   "metadata": {},
   "outputs": [
    {
     "data": {
      "text/plain": [
       "<__main__.Day at 0x106fe7470>"
      ]
     },
     "execution_count": 4,
     "metadata": {},
     "output_type": "execute_result"
    }
   ],
   "source": [
    "sum([day1,day2])"
   ]
  },
  {
   "cell_type": "code",
   "execution_count": 3,
   "metadata": {},
   "outputs": [
    {
     "name": "stdout",
     "output_type": "stream",
     "text": [
      "Visits: 30, Contacts: 3\n"
     ]
    }
   ],
   "source": [
    "dayn = sum([day1,day2])\n",
    "print (dayn)"
   ]
  },
  {
   "cell_type": "code",
   "execution_count": null,
   "metadata": {},
   "outputs": [],
   "source": []
  }
 ],
 "metadata": {
  "hide_input": false,
  "kernelspec": {
   "display_name": "Python 3",
   "language": "python",
   "name": "python3"
  },
  "language_info": {
   "codemirror_mode": {
    "name": "ipython",
    "version": 3
   },
   "file_extension": ".py",
   "mimetype": "text/x-python",
   "name": "python",
   "nbconvert_exporter": "python",
   "pygments_lexer": "ipython3",
   "version": "3.5.2"
  },
  "toc": {
   "nav_menu": {},
   "number_sections": true,
   "sideBar": true,
   "skip_h1_title": false,
   "toc_cell": false,
   "toc_position": {},
   "toc_section_display": "block",
   "toc_window_display": false
  },
  "varInspector": {
   "cols": {
    "lenName": 16,
    "lenType": 16,
    "lenVar": 40
   },
   "kernels_config": {
    "python": {
     "delete_cmd_postfix": "",
     "delete_cmd_prefix": "del ",
     "library": "var_list.py",
     "varRefreshCmd": "print(var_dic_list())"
    },
    "r": {
     "delete_cmd_postfix": ") ",
     "delete_cmd_prefix": "rm(",
     "library": "var_list.r",
     "varRefreshCmd": "cat(var_dic_list()) "
    }
   },
   "types_to_exclude": [
    "module",
    "function",
    "builtin_function_or_method",
    "instance",
    "_Feature"
   ],
   "window_display": false
  }
 },
 "nbformat": 4,
 "nbformat_minor": 2
}
