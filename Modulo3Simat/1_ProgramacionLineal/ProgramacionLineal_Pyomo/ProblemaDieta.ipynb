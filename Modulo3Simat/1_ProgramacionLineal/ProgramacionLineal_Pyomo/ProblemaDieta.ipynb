{
 "cells": [
  {
   "cell_type": "markdown",
   "metadata": {},
   "source": [
    "# El problema de la dieta\n",
    "\n",
    "\n",
    "El objetivo del problema de la dieta es **seleccionar comida que satisfaga requerimientos nutricionales diarios en un costo minimo.**\n",
    "\n",
    "El problema puede ser formulado como de programacion lineal, para el cual **las restricciones limitan el numero de calorias y la cantidad de vitaminas y minerales, grasas, sodio y colesterol en la dieta.**\n",
    "\n"
   ]
  },
  {
   "cell_type": "markdown",
   "metadata": {},
   "source": [
    "# Pranteamiento del problema \n",
    "\n",
    "El problema de la dieta puede ser modelado matematicamente como problema de programacion lineal usando el siguiente modelo.\n",
    "\n",
    "## Conjuntos\n",
    "- $F$ = conjunto de comidas\n",
    "- $N$ = conjunto de nutrientes\n",
    "\n",
    "## Parametros\n",
    "\n",
    "- $c_i$ costo por porcion de comida $i, \\forall i \\in F$\n",
    "- $a_{ij}$ = cantidad de nutrientes $j$ en la comida $i,\\forall i \\in F, \\forall j \\in N$\n",
    "- $Nmin_j$ = minimo nivel de nutrientes $j, \\forall i¡j \\in N$\n",
    "- $Nmax_j$ = maximum nivel de nutrientes $j, \\forall j \\in N$\n",
    "- $V_i$ = el volumen por porcion de comida $i, \\forall i \\in F$\n",
    "- $Vmax $ = maximum volumen de comida consumida.\n",
    "\n",
    "## Variables\n",
    "- $x_i$ = numero de porciones de comida $i$ a consumir\n",
    "\n",
    "## Objetivo\n",
    "\n",
    "Minimizar el costo total de comida \n",
    "$min \\sum_{i \\in F} c_ix_i$\n",
    "\n",
    "## Restricciones (constraints)\n",
    "\n",
    "Limite de nutrietnes consumidos por cada nutriente $j\\in N$\n",
    "$Nmin_j \\leq \\sum_{i \\in F} a_{ij}x_i \\leq Nmax_j, \\forall j \\in N$\n",
    "\n",
    "Limite del volumen de comida consumida\n",
    "$\\sum_{i \\in F} V_ix_i \\leq Vmax$\n",
    "\n",
    "Cotas de consumo inferior\n",
    "$x_i\\geq 0, \\forall i \\in F$"
   ]
  },
  {
   "cell_type": "code",
   "execution_count": 23,
   "metadata": {},
   "outputs": [],
   "source": [
    "from pyomo.environ import *\n",
    "infinity = float('inf')\n",
    "\n",
    "model = AbstractModel()\n"
   ]
  },
  {
   "cell_type": "code",
   "execution_count": 24,
   "metadata": {},
   "outputs": [],
   "source": [
    "# Foods\n",
    "model.F = Set()\n",
    "# Nutrients\n",
    "model.N = Set()\n"
   ]
  },
  {
   "cell_type": "code",
   "execution_count": 25,
   "metadata": {},
   "outputs": [],
   "source": [
    "# Cost of each food\n",
    "model.c    = Param(model.F, within=PositiveReals)\n",
    "# Amount of nutrient in each food\n",
    "model.a    = Param(model.F, model.N, within=NonNegativeReals)\n",
    "# Lower and upper bound on each nutrient\n",
    "model.Nmin = Param(model.N, within=NonNegativeReals, default=0.0)\n",
    "model.Nmax = Param(model.N, within=NonNegativeReals, default=infinity)\n",
    "# Volume per serving of food\n",
    "model.V    = Param(model.F, within=PositiveReals)\n",
    "# Maximum volume of food consumed\n",
    "model.Vmax = Param(within=PositiveReals)"
   ]
  },
  {
   "cell_type": "code",
   "execution_count": 26,
   "metadata": {},
   "outputs": [],
   "source": [
    "# Number of servings consumed of each food\n",
    "model.x = Var(model.F, within=NonNegativeIntegers)"
   ]
  },
  {
   "cell_type": "code",
   "execution_count": 27,
   "metadata": {},
   "outputs": [],
   "source": [
    "# Minimize the cost of food that is consumed\n",
    "def cost_rule(model):\n",
    "    return sum(model.c[i]*model.x[i] for i in model.F)\n",
    "model.cost = Objective(rule=cost_rule)"
   ]
  },
  {
   "cell_type": "code",
   "execution_count": 28,
   "metadata": {},
   "outputs": [],
   "source": [
    "# Limit nutrient consumption for each nutrient\n",
    "def nutrient_rule(model, j):\n",
    "    value = sum(model.a[i,j]*model.x[i] for i in model.F)\n",
    "    return model.Nmin[j] <= value <= model.Nmax[j]\n",
    "model.nutrient_limit = Constraint(model.N, rule=nutrient_rule)\n",
    "\n",
    "# Limit the volume of food consumed\n",
    "def volume_rule(model):\n",
    "    return sum(model.V[i]*model.x[i] for i in model.F) <= model.Vmax\n",
    "model.volume = Constraint(rule=volume_rule)"
   ]
  },
  {
   "cell_type": "code",
   "execution_count": 29,
   "metadata": {},
   "outputs": [
    {
     "name": "stdout",
     "output_type": "stream",
     "text": [
      "param:  F:                          c     V  :=\r\n",
      "  \"Cheeseburger\"                 1.84   4.0  \r\n",
      "  \"Ham Sandwich\"                 2.19   7.5  \r\n",
      "  \"Hamburger\"                    1.84   3.5  \r\n",
      "  \"Fish Sandwich\"                1.44   5.0  \r\n",
      "  \"Chicken Sandwich\"             2.29   7.3  \r\n",
      "  \"Fries\"                         .77   2.6  \r\n",
      "  \"Sausage Biscuit\"              1.29   4.1  \r\n",
      "  \"Lowfat Milk\"                   .60   8.0 \r\n",
      "  \"Orange Juice\"                  .72  12.0 ;\r\n",
      "\r\n",
      "param Vmax := 75.0;\r\n",
      "\r\n",
      "param:  N:       Nmin   Nmax :=\r\n",
      "        Cal      2000      .\r\n",
      "        Carbo     350    375\r\n",
      "        Protein    55      .\r\n",
      "        VitA      100      .\r\n",
      "        VitC      100      .\r\n",
      "        Calc      100      .\r\n",
      "        Iron      100      . ;\r\n",
      "\r\n",
      "param a:\r\n",
      "                               Cal  Carbo Protein   VitA   VitC  Calc  Iron :=\r\n",
      "  \"Cheeseburger\"               510     34     28     15      6    30    20\r\n",
      "  \"Ham Sandwich\"               370     35     24     15     10    20    20\r\n",
      "  \"Hamburger\"                  500     42     25      6      2    25    20\r\n",
      "  \"Fish Sandwich\"              370     38     14      2      0    15    10\r\n",
      "  \"Chicken Sandwich\"           400     42     31      8     15    15     8\r\n",
      "  \"Fries\"                      220     26      3      0     15     0     2\r\n",
      "  \"Sausage Biscuit\"            345     27     15      4      0    20    15\r\n",
      "  \"Lowfat Milk\"                110     12      9     10      4    30     0\r\n",
      "  \"Orange Juice\"                80     20      1      2    120     2     2 ;"
     ]
    }
   ],
   "source": [
    "!cat diet.dat"
   ]
  },
  {
   "cell_type": "code",
   "execution_count": 30,
   "metadata": {},
   "outputs": [],
   "source": [
    "from pyomo.environ import *"
   ]
  },
  {
   "cell_type": "code",
   "execution_count": 33,
   "metadata": {
    "scrolled": true
   },
   "outputs": [
    {
     "name": "stdout",
     "output_type": "stream",
     "text": [
      "GLPSOL: GLPK LP/MIP Solver, v4.57\n",
      "Parameter(s) specified in the command line:\n",
      " --write /var/folders/jp/5g65spjj28z4bxpxm9h_hsjh0000gn/T/tmp8a3jt0vb.glpk.raw\n",
      " --wglp /var/folders/jp/5g65spjj28z4bxpxm9h_hsjh0000gn/T/tmpa6vnn6_r.glpk.glp\n",
      " --cpxlp /var/folders/jp/5g65spjj28z4bxpxm9h_hsjh0000gn/T/tmp7zfikrbg.pyomo.lp\n",
      "Reading problem data from '/var/folders/jp/5g65spjj28z4bxpxm9h_hsjh0000gn/T/tmp7zfikrbg.pyomo.lp'...\n",
      "10 rows, 10 columns, 77 non-zeros\n",
      "9 integer variables, none of which are binary\n",
      "143 lines were read\n",
      "Writing problem data to '/var/folders/jp/5g65spjj28z4bxpxm9h_hsjh0000gn/T/tmpa6vnn6_r.glpk.glp'...\n",
      "129 lines were written\n",
      "GLPK Integer Optimizer, v4.57\n",
      "10 rows, 10 columns, 77 non-zeros\n",
      "9 integer variables, none of which are binary\n",
      "Preprocessing...\n",
      "9 rows, 9 columns, 76 non-zeros\n",
      "9 integer variables, none of which are binary\n",
      "Scaling...\n",
      " A: min|aij| =  1.000e+00  max|aij| =  5.100e+02  ratio =  5.100e+02\n",
      "GM: min|aij| =  1.607e-01  max|aij| =  6.223e+00  ratio =  3.873e+01\n",
      "EQ: min|aij| =  2.582e-02  max|aij| =  1.000e+00  ratio =  3.873e+01\n",
      "2N: min|aij| =  1.562e-02  max|aij| =  1.500e+00  ratio =  9.600e+01\n",
      "Constructing initial basis...\n",
      "Size of triangular part is 9\n",
      "Solving LP relaxation...\n",
      "GLPK Simplex Optimizer, v4.57\n",
      "9 rows, 9 columns, 76 non-zeros\n",
      "      0: obj =   0.000000000e+00 inf =   2.438e+01 (7)\n",
      "      8: obj =   1.716519519e+01 inf =   0.000e+00 (0)\n",
      "*    11: obj =   1.485573770e+01 inf =   0.000e+00 (0)\n",
      "OPTIMAL LP SOLUTION FOUND\n",
      "Integer optimization begins...\n",
      "+    11: mip =     not found yet >=              -inf        (1; 0)\n",
      "Solution found by heuristic: 15.62\n",
      "Solution found by heuristic: 15.57\n",
      "Solution found by heuristic: 15.05\n",
      "+    39: mip =   1.505000000e+01 >=     tree is empty   0.0% (0; 23)\n",
      "INTEGER OPTIMAL SOLUTION FOUND\n",
      "Time used:   0.0 secs\n",
      "Memory used: 0.1 Mb (58511 bytes)\n",
      "Writing MIP solution to '/var/folders/jp/5g65spjj28z4bxpxm9h_hsjh0000gn/T/tmp8a3jt0vb.glpk.raw'...\n",
      "22 lines were written\n",
      "# ==========================================================\n",
      "# = Solver Results                                         =\n",
      "# ==========================================================\n",
      "# ----------------------------------------------------------\n",
      "#   Problem Information\n",
      "# ----------------------------------------------------------\n",
      "Problem: \n",
      "- Name: unknown\n",
      "  Lower bound: 15.05\n",
      "  Upper bound: 15.05\n",
      "  Number of objectives: 1\n",
      "  Number of constraints: 10\n",
      "  Number of variables: 10\n",
      "  Number of nonzeros: 77\n",
      "  Sense: minimize\n",
      "# ----------------------------------------------------------\n",
      "#   Solver Information\n",
      "# ----------------------------------------------------------\n",
      "Solver: \n",
      "- Status: ok\n",
      "  Termination condition: optimal\n",
      "  Statistics: \n",
      "    Branch and bound: \n",
      "      Number of bounded subproblems: 23\n",
      "      Number of created subproblems: 23\n",
      "  Error rc: 0\n",
      "  Time: 0.030038833618164062\n",
      "# ----------------------------------------------------------\n",
      "#   Solution Information\n",
      "# ----------------------------------------------------------\n",
      "Solution: \n",
      "- number of solutions: 0\n",
      "  number of solutions displayed: 0\n",
      "Variable x\n",
      "    Orange Juice 0.0\n",
      "    Fries 5.0\n",
      "    Lowfat Milk 4.0\n",
      "    Sausage Biscuit 0.0\n",
      "    Ham Sandwich 0.0\n",
      "    Chicken Sandwich 0.0\n",
      "    Cheeseburger 4.0\n",
      "    Hamburger 0.0\n",
      "    Fish Sandwich 1.0\n"
     ]
    }
   ],
   "source": [
    "solver = SolverFactory('glpk')\n",
    "\n",
    "instance = model.create_instance('diet.dat')\n",
    "results = solver.solve(instance,tee=True)\n",
    "results.write()\n",
    "instance.solutions.load_from(results)\n",
    "\n",
    "for v in instance.component_objects(Var, active=True):\n",
    "    print (\"Variable\",v)\n",
    "    varobject = getattr(instance, str(v))\n",
    "    for index in varobject:\n",
    "        print (\"   \",index, varobject[index].value)"
   ]
  },
  {
   "cell_type": "code",
   "execution_count": 35,
   "metadata": {},
   "outputs": [],
   "source": [
    "model.create_instance?"
   ]
  },
  {
   "cell_type": "code",
   "execution_count": 16,
   "metadata": {},
   "outputs": [],
   "source": [
    "from __future__ import division\n",
    "from pyomo.environ import *\n",
    "\n",
    "model = AbstractModel()\n",
    "\n",
    "model.m = Param(within=NonNegativeIntegers)\n",
    "model.n = Param(within=NonNegativeIntegers)\n",
    "\n",
    "model.I = RangeSet(1, model.m)\n",
    "model.J = RangeSet(1, model.n)\n",
    "\n",
    "model.a = Param(model.I, model.J)\n",
    "model.b = Param(model.I)\n",
    "model.c = Param(model.J)\n",
    "\n",
    "# the next line declares a variable indexed by the set J\n",
    "model.x = Var(model.J, domain=NonNegativeReals)\n",
    "\n",
    "def obj_expression(model):\n",
    "    return summation(model.c, model.x)\n",
    "\n",
    "model.OBJ = Objective(rule=obj_expression)\n",
    "\n",
    "def ax_constraint_rule(model, i):\n",
    "    # return the expression for the constraint for i\n",
    "    return sum(model.a[i,j] * model.x[j] for j in model.J) >= model.b[i]\n",
    "\n",
    "# the next line creates one constraint for each member of the set model.I\n",
    "model.AxbConstraint = Constraint(model.I, rule=ax_constraint_rule)"
   ]
  },
  {
   "cell_type": "code",
   "execution_count": null,
   "metadata": {},
   "outputs": [],
   "source": [
    "from pyomo.environ import *"
   ]
  },
  {
   "cell_type": "code",
   "execution_count": 38,
   "metadata": {},
   "outputs": [],
   "source": [
    "#Carnes\n",
    "Carne = {'CarneVaca':80, 'CarneCerdo':68}\n",
    "Grasa = {'CarneVaca':.20, 'CarneCerdo':.32}\n",
    "pCarne = {'CarneVaca':.8, 'CarneCerdo':.6}\n",
    "\n",
    "limit = 100\n",
    "items = list(sorted(Carne.keys()))"
   ]
  },
  {
   "cell_type": "code",
   "execution_count": 45,
   "metadata": {},
   "outputs": [
    {
     "data": {
      "text/plain": [
       "(['CarneCerdo', 'CarneVaca'], 80)"
      ]
     },
     "execution_count": 45,
     "metadata": {},
     "output_type": "execute_result"
    }
   ],
   "source": [
    "items,Carne[\"CarneVaca\"]"
   ]
  },
  {
   "cell_type": "code",
   "execution_count": 37,
   "metadata": {
    "scrolled": true
   },
   "outputs": [
    {
     "name": "stdout",
     "output_type": "stream",
     "text": [
      "Status = optimal\n",
      "x[hammer] = 1.000000\n",
      "x[screwdriver] = 1.000000\n",
      "x[towel] = 1.000000\n",
      "x[wrench] = 1.000000\n",
      "Objective = 28.000000\n"
     ]
    }
   ],
   "source": [
    "# Create model\n",
    "m = ConcreteModel()\n",
    "\n",
    "# Variables\n",
    "m.x = Var(items, within=Binary)\n",
    "\n",
    "# Objective\n",
    "m.value = Objective(expr=sum(Carne[i]*m.x[i] for i in items), sense=minimize)\n",
    "\n",
    "# Constraint\n",
    "m.weight = Constraint(expr=sum(Grasa[i]*m.x[i] for i in items) <= limit)\n",
    "\n",
    "\n",
    "# Optimize\n",
    "solver = SolverFactory('glpk')\n",
    "status = solver.solve(m)\n",
    "\n",
    "# Print the status of the solved LP\n",
    "print(\"Status = %s\" % status.solver.termination_condition)\n",
    "\n",
    "# Print the value of the variables at the optimum\n",
    "for i in items:\n",
    "    print(\"%s = %f\" % (m.x[i], value(m.x[i])))\n",
    "\n",
    "# Print the value of the objective\n",
    "print(\"Objective = %f\" % value(m.value))"
   ]
  },
  {
   "cell_type": "code",
   "execution_count": null,
   "metadata": {},
   "outputs": [],
   "source": []
  },
  {
   "cell_type": "code",
   "execution_count": 46,
   "metadata": {},
   "outputs": [
    {
     "name": "stdout",
     "output_type": "stream",
     "text": [
      "Status = optimal\n",
      "x = 60.000000\n",
      "y[1] = 64.500000\n",
      "y[2] = 60.000000\n",
      "y[3] = 78.000000\n",
      "y[4] = 87.000000\n",
      "y[5] = 93.000000\n",
      "Objective = 76.500000\n"
     ]
    }
   ],
   "source": [
    "\n",
    "\n",
    "c=1.0\n",
    "b=1.5\n",
    "h=0.1\n",
    "d = {1:15, 2:60, 3:72, 4:78, 5:82}\n",
    "\n",
    "scenarios = range(1,6)\n",
    "\n",
    "M = ConcreteModel()\n",
    "M.x = Var(within=NonNegativeReals)\n",
    "M.y = Var(scenarios)\n",
    "\n",
    "M.c = ConstraintList()\n",
    "for i in scenarios:\n",
    "  M.c.add( M.y[i] >= (c-b)*M.x + b*d[i] )\n",
    "  M.c.add( M.y[i] >= (c+h)*M.x - h*d[i] )\n",
    "\n",
    "M.o = Objective(expr=sum(M.y[i] for i in scenarios)/5.0)\n",
    "\n",
    "solver = SolverFactory('glpk')\n",
    "status = solver.solve(M)\n",
    "\n",
    "print(\"Status = %s\" % status.solver.termination_condition)\n",
    "\n",
    "print(\"%s = %f\" % (M.x, value(M.x)))\n",
    "for i in scenarios:\n",
    "    print(\"%s = %f\" % (M.y[i], value(M.y[i])))\n",
    "print(\"Objective = %f\" % value(M.o))"
   ]
  },
  {
   "cell_type": "code",
   "execution_count": null,
   "metadata": {},
   "outputs": [],
   "source": []
  }
 ],
 "metadata": {
  "hide_input": false,
  "kernelspec": {
   "display_name": "Python 3",
   "language": "python",
   "name": "python3"
  },
  "language_info": {
   "codemirror_mode": {
    "name": "ipython",
    "version": 3
   },
   "file_extension": ".py",
   "mimetype": "text/x-python",
   "name": "python",
   "nbconvert_exporter": "python",
   "pygments_lexer": "ipython3",
   "version": "3.5.2"
  },
  "toc": {
   "nav_menu": {},
   "number_sections": true,
   "sideBar": true,
   "skip_h1_title": false,
   "toc_cell": false,
   "toc_position": {},
   "toc_section_display": "block",
   "toc_window_display": false
  },
  "varInspector": {
   "cols": {
    "lenName": 16,
    "lenType": 16,
    "lenVar": 40
   },
   "kernels_config": {
    "python": {
     "delete_cmd_postfix": "",
     "delete_cmd_prefix": "del ",
     "library": "var_list.py",
     "varRefreshCmd": "print(var_dic_list())"
    },
    "r": {
     "delete_cmd_postfix": ") ",
     "delete_cmd_prefix": "rm(",
     "library": "var_list.r",
     "varRefreshCmd": "cat(var_dic_list()) "
    }
   },
   "types_to_exclude": [
    "module",
    "function",
    "builtin_function_or_method",
    "instance",
    "_Feature"
   ],
   "window_display": false
  }
 },
 "nbformat": 4,
 "nbformat_minor": 2
}
