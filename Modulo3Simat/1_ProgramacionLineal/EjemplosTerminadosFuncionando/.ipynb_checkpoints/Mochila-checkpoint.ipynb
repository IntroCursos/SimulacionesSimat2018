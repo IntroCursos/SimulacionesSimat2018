{
 "cells": [
  {
   "cell_type": "markdown",
   "metadata": {},
   "source": [
    "# Problema de la mochila"
   ]
  },
  {
   "cell_type": "code",
   "execution_count": 1,
   "metadata": {},
   "outputs": [],
   "source": [
    "#\n",
    "# Knapsack Problem\n",
    "#\n",
    "\n",
    "from pyomo.environ import *\n",
    "\n",
    "v = {'hammer':8, 'wrench':3, 'screwdriver':6, 'towel':11}\n",
    "w = {'hammer':5, 'wrench':7, 'screwdriver':4, 'towel':3}\n",
    "\n",
    "limit = 14\n",
    "\n",
    "M = ConcreteModel()\n",
    "\n",
    "M.ITEMS = Set(initialize=v.keys())\n",
    "\n",
    "M.x = Var(M.ITEMS, within=Binary)\n",
    "\n",
    "M.value = Objective(expr=sum(v[i]*M.x[i] for i in M.ITEMS), sense=maximize)\n",
    "\n",
    "M.weight = Constraint(expr=sum(w[i]*M.x[i] for i in M.ITEMS) <= limit)"
   ]
  },
  {
   "cell_type": "code",
   "execution_count": 6,
   "metadata": {},
   "outputs": [
    {
     "name": "stdout",
     "output_type": "stream",
     "text": [
      "Status = optimal\n",
      "Objective = 25.857143\n"
     ]
    }
   ],
   "source": [
    "solver = SolverFactory('ipopt')\n",
    "status = solver.solve(M)\n",
    "\n",
    "print(\"Status = %s\" % status.solver.termination_condition)\n",
    "\n",
    "#print(\"%s = %f\" % (M.x, value(M.x)))\n",
    "#print(\"%s = %f\" % (m.h, value(m.h)))\n",
    "print(\"Objective = %f\" % value(M.value))"
   ]
  },
  {
   "cell_type": "code",
   "execution_count": 10,
   "metadata": {},
   "outputs": [
    {
     "name": "stdout",
     "output_type": "stream",
     "text": [
      "x : Size=4, Index=ITEMS, Domain=Binary\n",
      "    Key         : Lower : Value              : Upper : Fixed : Stale\n",
      "         hammer :     0 :                1.0 :     1 : False : False\n",
      "    screwdriver :     0 :                1.0 :     1 : False : False\n",
      "          towel :     0 :                1.0 :     1 : False : False\n",
      "         wrench :     0 : 0.2857142884855504 :     1 : False : False\n"
     ]
    }
   ],
   "source": [
    "M.x.display()"
   ]
  },
  {
   "cell_type": "code",
   "execution_count": 17,
   "metadata": {},
   "outputs": [
    {
     "data": {
      "text/plain": [
       "[1.0, 1.0, 1.0, 0.2857142884855504]"
      ]
     },
     "execution_count": 17,
     "metadata": {},
     "output_type": "execute_result"
    }
   ],
   "source": [
    "[value(M.x[i]) for i in M.ITEMS]"
   ]
  },
  {
   "cell_type": "code",
   "execution_count": 5,
   "metadata": {},
   "outputs": [
    {
     "name": "stdout",
     "output_type": "stream",
     "text": [
      "1 Set Declarations\n",
      "    ITEMS : Dim=0, Dimen=1, Size=4, Domain=None, Ordered=False, Bounds=None\n",
      "        ['hammer', 'screwdriver', 'towel', 'wrench']\n",
      "\n",
      "3 Param Declarations\n",
      "    limit : Size=1, Index=None, Domain=PositiveReals, Default=None, Mutable=False\n",
      "        Key  : Value\n",
      "        None :    14\n",
      "    v : Size=4, Index=ITEMS, Domain=PositiveReals, Default=None, Mutable=False\n",
      "        Key         : Value\n",
      "             hammer :     8\n",
      "        screwdriver :     6\n",
      "              towel :    11\n",
      "             wrench :     3\n",
      "    w : Size=4, Index=ITEMS, Domain=PositiveReals, Default=None, Mutable=False\n",
      "        Key         : Value\n",
      "             hammer :     5\n",
      "        screwdriver :     4\n",
      "              towel :     3\n",
      "             wrench :     7\n",
      "\n",
      "1 Var Declarations\n",
      "    x : Size=4, Index=ITEMS, Domain=Binary\n",
      "        Key         : Lower : Value : Upper : Fixed : Stale\n",
      "             hammer :     0 :  None :     1 : False :  True\n",
      "        screwdriver :     0 :  None :     1 : False :  True\n",
      "              towel :     0 :  None :     1 : False :  True\n",
      "             wrench :     0 :  None :     1 : False :  True\n",
      "\n",
      "1 Objective Declarations\n",
      "    value : Size=1, Index=None, Active=True\n",
      "        Key  : Active : Sense    : Expression\n",
      "        None :   True : maximize : 8*x[hammer] + 6*x[screwdriver] + 11*x[towel] + 3*x[wrench]\n",
      "\n",
      "1 Constraint Declarations\n",
      "    weight : Size=1, Index=None, Active=True\n",
      "        Key  : Lower : Body                                                      : Upper : Active\n",
      "        None :  -Inf : 5*x[hammer] + 4*x[screwdriver] + 3*x[towel] + 7*x[wrench] : limit :   True\n",
      "\n",
      "7 Declarations: ITEMS v w limit x value weight\n"
     ]
    }
   ],
   "source": [
    "#\n",
    "# Abstract Knapsack Problem\n",
    "#\n",
    "\n",
    "from pyomo.environ import *\n",
    "\n",
    "model = AbstractModel()\n",
    "\n",
    "model.ITEMS = Set()\n",
    "\n",
    "model.v = Param(model.ITEMS, within=PositiveReals)\n",
    "\n",
    "model.w = Param(model.ITEMS, within=PositiveReals)\n",
    "\n",
    "model.limit = Param(within=PositiveReals)\n",
    "\n",
    "model.x = Var(model.ITEMS, within=Binary)\n",
    "\n",
    "def value_rule(model):\n",
    "    return sum(model.v[i]*model.x[i] for i in model.ITEMS)\n",
    "model.value = Objective(sense=maximize, rule=value_rule)\n",
    "\n",
    "def weight_rule(model):\n",
    "    return sum(model.w[i]*model.x[i] for i in model.ITEMS) <= model.limit\n",
    "model.weight = Constraint(rule=weight_rule)\n",
    "\n",
    "\n",
    "if __name__ == '__main__':\n",
    "    data = {\n",
    "        'ITEMS': {None:('hammer','wrench','screwdriver','towel')},\n",
    "        'v': {'hammer': 8,\n",
    "               'wrench': 3,\n",
    "               'screwdriver': 6,\n",
    "               'towel': 11,\n",
    "           },\n",
    "        'w': { 'hammer': 5,\n",
    "               'wrench': 7,\n",
    "               'screwdriver': 4,\n",
    "               'towel': 3,\n",
    "           },\n",
    "        'limit': {None:14},\n",
    "    }\n",
    "    inst = model.create_instance(data={None:data})\n",
    "    inst.pprint()"
   ]
  }
 ],
 "metadata": {
  "hide_input": false,
  "kernelspec": {
   "display_name": "Python 3",
   "language": "python",
   "name": "python3"
  },
  "language_info": {
   "codemirror_mode": {
    "name": "ipython",
    "version": 3
   },
   "file_extension": ".py",
   "mimetype": "text/x-python",
   "name": "python",
   "nbconvert_exporter": "python",
   "pygments_lexer": "ipython3",
   "version": "3.5.2"
  },
  "toc": {
   "nav_menu": {},
   "number_sections": true,
   "sideBar": true,
   "skip_h1_title": false,
   "toc_cell": false,
   "toc_position": {},
   "toc_section_display": "block",
   "toc_window_display": false
  },
  "varInspector": {
   "cols": {
    "lenName": 16,
    "lenType": 16,
    "lenVar": 40
   },
   "kernels_config": {
    "python": {
     "delete_cmd_postfix": "",
     "delete_cmd_prefix": "del ",
     "library": "var_list.py",
     "varRefreshCmd": "print(var_dic_list())"
    },
    "r": {
     "delete_cmd_postfix": ") ",
     "delete_cmd_prefix": "rm(",
     "library": "var_list.r",
     "varRefreshCmd": "cat(var_dic_list()) "
    }
   },
   "types_to_exclude": [
    "module",
    "function",
    "builtin_function_or_method",
    "instance",
    "_Feature"
   ],
   "window_display": false
  }
 },
 "nbformat": 4,
 "nbformat_minor": 2
}
