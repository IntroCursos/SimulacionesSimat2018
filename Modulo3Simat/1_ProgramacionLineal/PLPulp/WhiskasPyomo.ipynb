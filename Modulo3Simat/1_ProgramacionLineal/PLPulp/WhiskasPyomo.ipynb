{
 "cells": [
  {
   "cell_type": "code",
   "execution_count": 35,
   "metadata": {},
   "outputs": [],
   "source": [
    "from pyomo.environ import *\n",
    "from math import pi"
   ]
  },
  {
   "cell_type": "code",
   "execution_count": 52,
   "metadata": {},
   "outputs": [],
   "source": [
    "# Creates a list of the Ingredients\n",
    "Ingredients = ['CHICKEN', 'BEEF', 'MUTTON', 'RICE', 'WHEAT', 'GEL']\n",
    "\n",
    "# A dictionary of the costs of each of the Ingredients is created\n",
    "costs = {'CHICKEN': 0.013,\n",
    "         'BEEF': 0.008,\n",
    "         'MUTTON': 0.010,\n",
    "         'RICE': 0.002,\n",
    "         'WHEAT': 0.005,\n",
    "         'GEL': 0.001}\n",
    "\n",
    "# A dictionary of the protein percent in each of the Ingredients is created\n",
    "proteinPercent = {'CHICKEN': 0.100,\n",
    "                  'BEEF': 0.200,\n",
    "                  'MUTTON': 0.150,\n",
    "                  'RICE': 0.000,\n",
    "                  'WHEAT': 0.040,\n",
    "                  'GEL': 0.000}\n",
    "\n",
    "# A dictionary of the fat percent in each of the Ingredients is created\n",
    "fatPercent = {'CHICKEN': 0.080,\n",
    "              'BEEF': 0.100,\n",
    "              'MUTTON': 0.110,\n",
    "              'RICE': 0.010,\n",
    "              'WHEAT': 0.010,\n",
    "              'GEL': 0.000}\n",
    "\n",
    "# A dictionary of the fibre percent in each of the Ingredients is created\n",
    "fibrePercent = {'CHICKEN': 0.001,\n",
    "                'BEEF': 0.005,\n",
    "                'MUTTON': 0.003,\n",
    "                'RICE': 0.100,\n",
    "                'WHEAT': 0.150,\n",
    "                'GEL': 0.000}\n",
    "\n",
    "# A dictionary of the salt percent in each of the Ingredients is created\n",
    "saltPercent = {'CHICKEN': 0.002,\n",
    "               'BEEF': 0.005,\n",
    "               'MUTTON': 0.007,\n",
    "               'RICE': 0.002,\n",
    "               'WHEAT': 0.008,\n",
    "               'GEL': 0.000}\n",
    "\n",
    "model = ConcreteModel(name=\"The Whiskas Problem\")\n",
    "\n",
    "model.ingredient_vars = Var(Ingredients, bounds=(0,None), doc=\"The amount of each ingredient that is used\")\n",
    "\n",
    "model.obj = Objective(expr=sum(costs[i]*model.ingredient_vars[i] for i in Ingredients), doc=\"Total Cost of Ingredients per can\")\n",
    "\n",
    "model.c0 = Constraint(expr=sum(model.ingredient_vars[i] for i in Ingredients) == 100, doc=\"PercentagesSum\")\n",
    "model.c1 = Constraint(expr=sum(proteinPercent[i] * model.ingredient_vars[i] for i in Ingredients) >= 8.0, doc=\"ProteinRequirement\")\n",
    "model.c2 = Constraint(expr=sum(fatPercent[i] * model.ingredient_vars[i] for i in Ingredients) >= 6.0, doc=\"FatRequirement\")\n",
    "model.c3 = Constraint(expr=sum(fibrePercent[i] * model.ingredient_vars[i] for i in Ingredients) <= 2.0, doc=\"FibreRequirement\")\n",
    "model.c4 = Constraint(expr=sum(saltPercent[i] * model.ingredient_vars[i] for i in Ingredients) <= 0.4, doc=\"SaltRequirement\")"
   ]
  },
  {
   "cell_type": "code",
   "execution_count": 54,
   "metadata": {},
   "outputs": [],
   "source": [
    "model.c5 = Constraint(expr= model.ingredient_vars[\"BEEF\"]  <= 30.0, doc=\"BeefProteinRequirementMax\")\n",
    "model.c6 = Constraint(expr= model.ingredient_vars[\"GEL\"]  <= 10.0, doc=\"GelProteinRequirementMax\")"
   ]
  },
  {
   "cell_type": "code",
   "execution_count": 55,
   "metadata": {
    "scrolled": true
   },
   "outputs": [
    {
     "name": "stdout",
     "output_type": "stream",
     "text": [
      "Status = optimal\n",
      "ingredient_vars[CHICKEN] = 16.444444\n",
      "ingredient_vars[BEEF] = 29.999999\n",
      "ingredient_vars[MUTTON] = 26.000001\n",
      "ingredient_vars[RICE] = 17.555555\n",
      "ingredient_vars[WHEAT] = 0.000000\n",
      "ingredient_vars[GEL] = 10.000000\n",
      "Objective = 0.758889\n"
     ]
    }
   ],
   "source": [
    "solver = SolverFactory('ipopt')\n",
    "status = solver.solve(model)\n",
    "\n",
    "print(\"Status = %s\" % status.solver.termination_condition)\n",
    "\n",
    "for i in Ingredients:\n",
    "    print(\"%s = %f\" % (model.ingredient_vars[i], value(model.ingredient_vars[i])))\n",
    "\n",
    "print(\"Objective = %f\" % value(model.obj))"
   ]
  },
  {
   "cell_type": "code",
   "execution_count": 34,
   "metadata": {},
   "outputs": [
    {
     "data": {
      "text/plain": [
       "12.0"
      ]
     },
     "execution_count": 34,
     "metadata": {},
     "output_type": "execute_result"
    }
   ],
   "source": []
  },
  {
   "cell_type": "code",
   "execution_count": null,
   "metadata": {},
   "outputs": [],
   "source": []
  },
  {
   "cell_type": "code",
   "execution_count": null,
   "metadata": {},
   "outputs": [],
   "source": []
  },
  {
   "cell_type": "code",
   "execution_count": 18,
   "metadata": {},
   "outputs": [
    {
     "name": "stdout",
     "output_type": "stream",
     "text": [
      "Status = optimal\n",
      "ingredient_vars[CHICKEN] = 0.000000\n",
      "ingredient_vars[BEEF] = 59.999996\n",
      "ingredient_vars[MUTTON] = 0.000002\n",
      "ingredient_vars[RICE] = 0.000012\n",
      "ingredient_vars[WHEAT] = 0.000001\n",
      "ingredient_vars[GEL] = 39.999989\n",
      "Objective = 0.520000\n"
     ]
    }
   ],
   "source": [
    "\n",
    "\n",
    "solver = SolverFactory('ipopt')\n",
    "status = solver.solve(model)\n",
    "\n",
    "print(\"Status = %s\" % status.solver.termination_condition)\n",
    "\n",
    "for i in Ingredients:\n",
    "    print(\"%s = %f\" % (model.ingredient_vars[i], value(model.ingredient_vars[i])))\n",
    "\n",
    "print(\"Objective = %f\" % value(model.obj))"
   ]
  },
  {
   "cell_type": "code",
   "execution_count": null,
   "metadata": {},
   "outputs": [],
   "source": []
  },
  {
   "cell_type": "code",
   "execution_count": null,
   "metadata": {},
   "outputs": [],
   "source": []
  },
  {
   "cell_type": "code",
   "execution_count": null,
   "metadata": {},
   "outputs": [],
   "source": []
  },
  {
   "cell_type": "code",
   "execution_count": null,
   "metadata": {},
   "outputs": [],
   "source": []
  },
  {
   "cell_type": "code",
   "execution_count": null,
   "metadata": {},
   "outputs": [],
   "source": []
  },
  {
   "cell_type": "code",
   "execution_count": null,
   "metadata": {},
   "outputs": [],
   "source": []
  },
  {
   "cell_type": "code",
   "execution_count": null,
   "metadata": {},
   "outputs": [],
   "source": [
    "model = AbstractModel()\n",
    "\n",
    "model.N = Set()\n",
    "model.M = Set()\n",
    "\n",
    "model.c = Param(model.N)\n",
    "model.a = Param(model.N, model.M)\n",
    "model.b = Param(model.M)\n",
    "\n",
    "model.x = Var(model.N, within=NonNegativeReals)\n",
    "\n",
    "def obj_rule(model):\n",
    "    return sum(model.c[i]*model.x[i] for i in model.N)\n",
    "model.obj = Objective(rule=obj_rule)\n",
    "\n",
    "def con_rule(model, m):\n",
    "    return sum(model.a[i,m]*model.x[i] for i in model.N) >= model.b[m]\n",
    "model.con = Constraint(model.M, rule=con_rule)"
   ]
  }
 ],
 "metadata": {
  "hide_input": false,
  "kernelspec": {
   "display_name": "Python 3",
   "language": "python",
   "name": "python3"
  },
  "language_info": {
   "codemirror_mode": {
    "name": "ipython",
    "version": 3
   },
   "file_extension": ".py",
   "mimetype": "text/x-python",
   "name": "python",
   "nbconvert_exporter": "python",
   "pygments_lexer": "ipython3",
   "version": "3.5.2"
  },
  "toc": {
   "nav_menu": {},
   "number_sections": true,
   "sideBar": true,
   "skip_h1_title": false,
   "toc_cell": false,
   "toc_position": {},
   "toc_section_display": "block",
   "toc_window_display": false
  },
  "varInspector": {
   "cols": {
    "lenName": 16,
    "lenType": 16,
    "lenVar": 40
   },
   "kernels_config": {
    "python": {
     "delete_cmd_postfix": "",
     "delete_cmd_prefix": "del ",
     "library": "var_list.py",
     "varRefreshCmd": "print(var_dic_list())"
    },
    "r": {
     "delete_cmd_postfix": ") ",
     "delete_cmd_prefix": "rm(",
     "library": "var_list.r",
     "varRefreshCmd": "cat(var_dic_list()) "
    }
   },
   "types_to_exclude": [
    "module",
    "function",
    "builtin_function_or_method",
    "instance",
    "_Feature"
   ],
   "window_display": false
  }
 },
 "nbformat": 4,
 "nbformat_minor": 2
}
