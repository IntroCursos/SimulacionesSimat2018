{
 "cells": [
  {
   "cell_type": "markdown",
   "metadata": {
    "toc": "true"
   },
   "source": [
    " # Table of Contents\n",
    "<div class=\"toc\" style=\"margin-top: 1em;\"><ul class=\"toc-item\" id=\"toc-level0\"><li><span><a href=\"http://localhost:8888/notebooks/1Jupyter/Iteso_Simulacion2017/Simulaciones/Modulo3Simat/2_Ajuste%20de%20curvas/EstilosCSS.ipynb#Ajuste-de-curvas\" data-toc-modified-id=\"Ajuste-de-curvas-1\"><span class=\"toc-item-num\">1&nbsp;&nbsp;</span>Ajuste de curvas</a></span></li><li><span><a href=\"http://localhost:8888/notebooks/1Jupyter/Iteso_Simulacion2017/Simulaciones/Modulo3Simat/2_Ajuste%20de%20curvas/EstilosCSS.ipynb#Interpolación\" data-toc-modified-id=\"Interpolación-2\"><span class=\"toc-item-num\">2&nbsp;&nbsp;</span>Interpolación</a></span><ul class=\"toc-item\"><ul class=\"toc-item\"><li><span><a href=\"http://localhost:8888/notebooks/1Jupyter/Iteso_Simulacion2017/Simulaciones/Modulo3Simat/2_Ajuste%20de%20curvas/EstilosCSS.ipynb#Se-denomina--interpolación-a-la-obtención-de-nuevos-puntos-partiendo-del-conocimiento-de-un-conjunto-discreto-de-puntos.\" data-toc-modified-id=\"Se-denomina--interpolación-a-la-obtención-de-nuevos-puntos-partiendo-del-conocimiento-de-un-conjunto-discreto-de-puntos.-2.0.1\"><span class=\"toc-item-num\">2.0.1&nbsp;&nbsp;</span>Se denomina  interpolación a la obtención de nuevos puntos partiendo del conocimiento de un conjunto discreto de puntos.</a></span></li></ul></ul></li><li><span><a href=\"http://localhost:8888/notebooks/1Jupyter/Iteso_Simulacion2017/Simulaciones/Modulo3Simat/2_Ajuste%20de%20curvas/EstilosCSS.ipynb#Por-ejemplo:\" data-toc-modified-id=\"Por-ejemplo:-3\"><span class=\"toc-item-num\">3&nbsp;&nbsp;</span>Por ejemplo:</a></span><ul class=\"toc-item\"><ul class=\"toc-item\"><li><span><a href=\"http://localhost:8888/notebooks/1Jupyter/Iteso_Simulacion2017/Simulaciones/Modulo3Simat/2_Ajuste%20de%20curvas/EstilosCSS.ipynb#La-tabla-siguiente-presenta-la-temperatura-de-ebullicion-de-la-acetona-$(C_3H_6O)$-a-diferentes-presiones.\" data-toc-modified-id=\"La-tabla-siguiente-presenta-la-temperatura-de-ebullicion-de-la-acetona-$(C_3H_6O)$-a-diferentes-presiones.-3.0.1\"><span class=\"toc-item-num\">3.0.1&nbsp;&nbsp;</span>La tabla siguiente presenta la temperatura de ebullicion de la acetona $(C_3H_6O)$ a diferentes presiones.</a></span></li><li><span><a href=\"http://localhost:8888/notebooks/1Jupyter/Iteso_Simulacion2017/Simulaciones/Modulo3Simat/2_Ajuste%20de%20curvas/EstilosCSS.ipynb#Supóngase-que-sólo-se-dispusiera-de-la-segunda-tabla\" data-toc-modified-id=\"Supóngase-que-sólo-se-dispusiera-de-la-segunda-tabla-3.0.2\"><span class=\"toc-item-num\">3.0.2&nbsp;&nbsp;</span>Supóngase que sólo se dispusiera de la segunda tabla</a></span></li><li><span><a href=\"http://localhost:8888/notebooks/1Jupyter/Iteso_Simulacion2017/Simulaciones/Modulo3Simat/2_Ajuste%20de%20curvas/EstilosCSS.ipynb#Y-se-desea-calcular-la-temperatura-de-ebullición-de-la-acetona-a-2-atm-de-presión.\" data-toc-modified-id=\"Y-se-desea-calcular-la-temperatura-de-ebullición-de-la-acetona-a-2-atm-de-presión.-3.0.3\"><span class=\"toc-item-num\">3.0.3&nbsp;&nbsp;</span>Y se desea calcular la temperatura de ebullición de la acetona a 2 atm de presión.</a></span></li></ul></ul></li><li><span><a href=\"http://localhost:8888/notebooks/1Jupyter/Iteso_Simulacion2017/Simulaciones/Modulo3Simat/2_Ajuste%20de%20curvas/EstilosCSS.ipynb#Titulos\" data-toc-modified-id=\"Titulos-4\"><span class=\"toc-item-num\">4&nbsp;&nbsp;</span>Titulos</a></span></li></ul></div>"
   ]
  },
  {
   "cell_type": "markdown",
   "metadata": {},
   "source": [
    "# Ajuste de curvas\n",
    "\n",
    "El ajuste de curvas consiste en encontrar una curva que contenga una serie de puntos y que posiblemente cumpla una serie de restricciones adicionales. \n",
    "\n",
    "- Veremos una introducción tanto a la interpolación **(cuando se espera un ajuste exacto a determinadas restricciones)**\n",
    "\n",
    "- Y al ajuste de curvas/análisis de regresión **(cuando se permite una aproximación)**."
   ]
  },
  {
   "cell_type": "markdown",
   "metadata": {},
   "source": [
    "#  Interpolación\n",
    "\n",
    "[comment]: <> (This is a comment, it will not be included)\n",
    "\n",
    "### Se denomina  interpolación a la obtención de nuevos puntos partiendo del conocimiento de un conjunto discreto de puntos.\n",
    "\n",
    "\n",
    "#  Por ejemplo:\n",
    "\n",
    "\n",
    "### La tabla siguiente presenta la temperatura de ebullicion de la acetona $(C_3H_6O)$ a diferentes presiones.\n",
    "\n",
    "\n",
    "\n",
    "\n",
    "|Puntos| 0 |1 |2 |3 |4 |5 |6 |\n",
    "|--- |--- |--- |--- |--- |--- |--- |\n",
    "|$ T(^{\\circ} C)$|56.5 |78.5 |113.0 |144.5 |181.0 |205.0 |214.5 |\n",
    "|$P (atm)$|1 |2 |5 |10 |20 |30 |40 |\n",
    "\n",
    "\n",
    "### Supóngase que sólo se dispusiera de la segunda tabla\n",
    "\n",
    "\n",
    "|Puntos|0 |1 |2 |3 |\n",
    "|---|--- |--- |--- |--- \n",
    "|$ T(^{\\circ} C)$|56.5 |113.0 |181.0 |214.5 |\n",
    "|$P (atm)$|1 |5 |20 |40 |\n",
    "\n",
    "### Y se desea calcular la temperatura de ebullición de la acetona a 2 atm de presión."
   ]
  },
  {
   "cell_type": "code",
   "execution_count": null,
   "metadata": {},
   "outputs": [],
   "source": [
    "from IPython.core.display import HTML\n",
    "def css_styling():\n",
    "    styles = open(\"numericalmoocstyle.css\", \"r\").read()\n",
    "    return HTML(styles)\n",
    "css_styling()"
   ]
  },
  {
   "cell_type": "markdown",
   "metadata": {},
   "source": [
    "# Titulos "
   ]
  },
  {
   "cell_type": "code",
   "execution_count": 2,
   "metadata": {},
   "outputs": [],
   "source": [
    "from IPython.core.display import HTML\n"
   ]
  },
  {
   "cell_type": "code",
   "execution_count": 9,
   "metadata": {},
   "outputs": [
    {
     "data": {
      "text/html": [
       " \n",
       "<style>\n",
       "a {color : #B10DC9 !important; }\n",
       "h1{\n",
       "    color: #F012BE !important;\n",
       "    background: rbga(0,0,0,0.5);\n",
       "  }\n",
       "</style>\n"
      ],
      "text/plain": [
       "<IPython.core.display.HTML object>"
      ]
     },
     "execution_count": 9,
     "metadata": {},
     "output_type": "execute_result"
    }
   ],
   "source": [
    "estilo =''' \n",
    "<style>\n",
    "a {color : #B10DC9 !important; }\n",
    "h1{\n",
    "    color: #F012BE !important;\n",
    "    background: rbga(0,0,0,0.5);\n",
    "  }\n",
    "</style>\n",
    "'''\n",
    "\n",
    "HTML(estilo)"
   ]
  },
  {
   "cell_type": "code",
   "execution_count": 33,
   "metadata": {},
   "outputs": [
    {
     "data": {
      "text/html": [
       " \n",
       "<style>\n",
       "h1  {\n",
       "        color: fuchsia;\n",
       "        text-align: left;\n",
       "        text-decoration: underline;\n",
       "    }\n",
       "\n",
       "</style>\n"
      ],
      "text/plain": [
       "<IPython.core.display.HTML object>"
      ]
     },
     "execution_count": 33,
     "metadata": {},
     "output_type": "execute_result"
    }
   ],
   "source": [
    "from IPython.core.display import HTML\n",
    "\n",
    "estilo =''' \n",
    "<style>\n",
    "h1  {\n",
    "        color: fuchsia;\n",
    "        text-align: left;\n",
    "        text-decoration: underline;\n",
    "    }\n",
    "div {\n",
    "    text-align: justify;\n",
    "    }\n",
    "</style>\n",
    "'''\n",
    "\n",
    "HTML(estilo)"
   ]
  },
  {
   "cell_type": "code",
   "execution_count": 19,
   "metadata": {},
   "outputs": [
    {
     "data": {
      "text/html": [
       "<style>\n",
       "    h1 {\n",
       "        color: #0074D9;\n",
       "    }\n",
       "</style>\n"
      ],
      "text/plain": [
       "<IPython.core.display.HTML object>"
      ]
     },
     "execution_count": 19,
     "metadata": {},
     "output_type": "execute_result"
    }
   ],
   "source": [
    "import requests\n",
    "\n",
    "url = \"https://raw.githubusercontent.com/Michellopez16/Simulacion2017-1/master/Estilo.css\"\n",
    "page = requests.get(url)\n",
    "\n",
    "HTML(page.text)"
   ]
  },
  {
   "cell_type": "code",
   "execution_count": 17,
   "metadata": {},
   "outputs": [
    {
     "data": {
      "text/html": [
       "<style>\n",
       "@import url(http://fonts.googleapis.com/css?family=Lato|Source+Code+Pro|Montserrat:400,700);\n",
       "body {\n",
       "font-family: 'Lato', sans-serif !important;\n",
       "font-size: 1.25em !important;\n",
       "line-height: 30px !important;\n",
       "font-weight: 400 !important;\n",
       "color: #8d8d8d !important;\n",
       "}\n",
       "#notebook-container {\n",
       "-webkit-box-shadow: none;\n",
       "box-shadow: none;\n",
       "}\n",
       ".rendered_html h1 { font-size: 4rem !important;  }\n",
       ".rendered_html h2 { font-size: 3rem !important; }\n",
       ".rendered_html h3 { font-size: 2.5rem !important; }\n",
       ".rendered_html h4 { font-size: 2rem !important; }\n",
       ".rendered_html h5 { font-size: 1.5rem !important; }\n",
       ".rendered_html h6 { font-size: 1.5rem !important; }\n",
       ".rendered_html h1, \n",
       ".rendered_html h2, \n",
       ".rendered_html h3, \n",
       ".rendered_html h4,\n",
       ".rendered_html h5, \n",
       ".rendered_html h6 {\n",
       "font-family: 'Montserrat', sans-serif !important;\n",
       "font-weight: 300 !important;\n",
       "line-height: 1.5em !important;\n",
       "color: rgb(221, 153, 51) !important;\n",
       "}\n",
       "h1 { font-size: 4.5rem !important; }\n",
       "h2 { font-size: 4rem !important; }\n",
       "h3 { font-size: 3.5rem !important; }\n",
       "h4 { font-size: 3rem !important; }\n",
       "h5 { font-size: 2.5rem !important; }\n",
       "h6 { font-size: 2rem !important; }\n",
       "h1, h2, h3, h4, h5, h6 {\n",
       "font-family: 'Montserrat', sans-serif !important;\n",
       "color: #e6ae48 !important;\n",
       "line-height: 150px !important;\n",
       "}\n",
       "p {\n",
       "font-family: 'Lato', sans-serif !important;\n",
       "font-size: 1.25em !important;\n",
       "line-height: 30px !important;\n",
       "font-weight: 400 !important;\n",
       "color: #8d8d8d !important;\n",
       "}\n",
       "li {\n",
       "font-family: 'Lato', sans-serif !important;\n",
       "font-size: 1.25em !important;\n",
       "line-height: 30px !important;\n",
       "font-weight: 400 !important;\n",
       "color: #8d8d8d !important;\n",
       "}\n",
       "code {\n",
       "font-family: 'Source Code Pro', sans-serif !important;\n",
       "font-size: 1em !important;\n",
       "}\n",
       "pre {\n",
       "font-family: 'Source Code Pro', sans-serif !important;\n",
       "font-size: 1em !important;\n",
       "}\n",
       "div.input_area {\n",
       "border: none !important;\n",
       "background: whitesmoke !important;\n",
       "}\n",
       "<style>"
      ],
      "text/plain": [
       "<IPython.core.display.HTML object>"
      ]
     },
     "execution_count": 17,
     "metadata": {},
     "output_type": "execute_result"
    }
   ],
   "source": [
    "from IPython.core.display import HTML\n",
    "\n",
    "def css():\n",
    "    style = open(\"MiEstilo.css\", \"r\").read()\n",
    "    return HTML(style)\n",
    "\n",
    "css()\n"
   ]
  },
  {
   "cell_type": "code",
   "execution_count": 13,
   "metadata": {},
   "outputs": [],
   "source": [
    "from IPython.core.display import HTML\n",
    "import requests\n",
    "def css():\n",
    "    style = requests.get('http://www.aaronschlegel.com/display-custom-ipython-notebook-themes-in-nbviewer/#viewSource').text\n",
    "    return HTML(style)\n",
    "#css()"
   ]
  },
  {
   "cell_type": "code",
   "execution_count": 8,
   "metadata": {},
   "outputs": [],
   "source": [
    "import os"
   ]
  },
  {
   "cell_type": "code",
   "execution_count": 9,
   "metadata": {},
   "outputs": [],
   "source": [
    "os.environ?"
   ]
  }
 ],
 "metadata": {
  "hide_input": false,
  "kernelspec": {
   "display_name": "Python 3",
   "language": "python",
   "name": "python3"
  },
  "language_info": {
   "codemirror_mode": {
    "name": "ipython",
    "version": 3
   },
   "file_extension": ".py",
   "mimetype": "text/x-python",
   "name": "python",
   "nbconvert_exporter": "python",
   "pygments_lexer": "ipython3",
   "version": "3.5.2"
  },
  "toc": {
   "nav_menu": {},
   "number_sections": true,
   "sideBar": true,
   "skip_h1_title": false,
   "toc_cell": true,
   "toc_position": {},
   "toc_section_display": "none",
   "toc_window_display": false
  },
  "varInspector": {
   "cols": {
    "lenName": 16,
    "lenType": 16,
    "lenVar": 40
   },
   "kernels_config": {
    "python": {
     "delete_cmd_postfix": "",
     "delete_cmd_prefix": "del ",
     "library": "var_list.py",
     "varRefreshCmd": "print(var_dic_list())"
    },
    "r": {
     "delete_cmd_postfix": ") ",
     "delete_cmd_prefix": "rm(",
     "library": "var_list.r",
     "varRefreshCmd": "cat(var_dic_list()) "
    }
   },
   "types_to_exclude": [
    "module",
    "function",
    "builtin_function_or_method",
    "instance",
    "_Feature"
   ],
   "window_display": false
  }
 },
 "nbformat": 4,
 "nbformat_minor": 2
}
